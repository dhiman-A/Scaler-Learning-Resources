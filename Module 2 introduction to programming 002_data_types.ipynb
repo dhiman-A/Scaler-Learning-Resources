{
  "nbformat": 4,
  "nbformat_minor": 0,
  "metadata": {
    "colab": {
      "provenance": [],
      "authorship_tag": "ABX9TyMt4/leG6HjGXmvDQ+LWw9M",
      "include_colab_link": true
    },
    "kernelspec": {
      "name": "python3",
      "display_name": "Python 3"
    },
    "language_info": {
      "name": "python"
    }
  },
  "cells": [
    {
      "cell_type": "markdown",
      "metadata": {
        "id": "view-in-github",
        "colab_type": "text"
      },
      "source": [
        "<a href=\"https://colab.research.google.com/github/dhiman-A/Scaler-Learning-Resources/blob/main/Module%202%20introduction%20to%20programming%20002_data_types.ipynb\" target=\"_parent\"><img src=\"https://colab.research.google.com/assets/colab-badge.svg\" alt=\"Open In Colab\"/></a>"
      ]
    },
    {
      "cell_type": "markdown",
      "source": [
        "1. Write a program to add two numbers"
      ],
      "metadata": {
        "id": "BzEmLXFYftfD"
      }
    },
    {
      "cell_type": "code",
      "source": [
        "def add_numbers(a, b):\n",
        "    try:\n",
        "        result = a + b\n",
        "        return result\n",
        "    except TypeError:\n",
        "        return \"Error: Both inputs must be numbers.\"\n",
        "a = int(input(\"Enter first number: \"))\n",
        "b = int(input(\"Enter second number: \"))\n",
        "print(add_numbers(a, b))"
      ],
      "metadata": {
        "colab": {
          "base_uri": "https://localhost:8080/"
        },
        "id": "jsHlfttxfyTf",
        "outputId": "fff8cb01-d040-4040-dccf-dd532f455f1c"
      },
      "execution_count": 10,
      "outputs": [
        {
          "output_type": "stream",
          "name": "stdout",
          "text": [
            "Enter first number: 4\n",
            "Enter second number: 1\n",
            "5\n"
          ]
        }
      ]
    },
    {
      "cell_type": "markdown",
      "source": [
        "**Problem Description**\n",
        "\n",
        "Take a name A as input from the user and print \"Hello A\", where A is the name in input."
      ],
      "metadata": {
        "id": "mIHib-q4yEwe"
      }
    },
    {
      "cell_type": "code",
      "source": [
        "def print_hello(name):\n",
        "    try:\n",
        "        print(\"Hello\", name)\n",
        "    except TypeError:\n",
        "        print(\"Error: Name must be a string.\")\n",
        "name = input(\"Enter your name: \")\n",
        "print_hello(name)"
      ],
      "metadata": {
        "colab": {
          "base_uri": "https://localhost:8080/"
        },
        "id": "xul4gz-UyHuC",
        "outputId": "edb6842e-cc42-4ed9-87ba-12d356d297a8"
      },
      "execution_count": 11,
      "outputs": [
        {
          "output_type": "stream",
          "name": "stdout",
          "text": [
            "Enter your name: John Doe\n",
            "Hello John Doe\n"
          ]
        }
      ]
    },
    {
      "cell_type": "markdown",
      "source": [
        "**Problem Description**\n",
        "\n",
        "Print the first five letters of the English alphabet i.e. A, B, C, D and E in separates lines."
      ],
      "metadata": {
        "id": "VGv7Q5faybTF"
      }
    },
    {
      "cell_type": "code",
      "source": [
        "def print_alphabet():\n",
        "    try:\n",
        "        alphabet = \"ABCDEFGHIJKLMNOPQRSTUVWXYZ\"\n",
        "        for letter in alphabet[:5]:\n",
        "            print(letter)\n",
        "    except TypeError:\n",
        "        print(\"Error: Name must be a string.\")\n",
        "print_alphabet()"
      ],
      "metadata": {
        "colab": {
          "base_uri": "https://localhost:8080/"
        },
        "id": "M_YXN2YpyhFO",
        "outputId": "e976711e-d0fb-4623-a8ce-4a1a117b7c68"
      },
      "execution_count": 14,
      "outputs": [
        {
          "output_type": "stream",
          "name": "stdout",
          "text": [
            "A\n",
            "B\n",
            "C\n",
            "D\n",
            "E\n"
          ]
        }
      ]
    },
    {
      "cell_type": "markdown",
      "source": [
        "**Problem Description:** Concatenate two numbers\n",
        "\n",
        "Given two numbers A and B. Concatenate the two numbers and print it."
      ],
      "metadata": {
        "id": "RFy9XhaGzD3N"
      }
    },
    {
      "cell_type": "code",
      "source": [
        "def concatenate_numbers(a, b):\n",
        "  try:\n",
        "    result = str(a)+str(b)\n",
        "    return result\n",
        "  except TypeError:\n",
        "    return \"Error: Both inputs must be numbers.\"\n",
        "x = int(input(\"Enter first number: \"))\n",
        "y = int(input(\"Enter second number: \"))\n",
        "print(concatenate_numbers(x, y))"
      ],
      "metadata": {
        "colab": {
          "base_uri": "https://localhost:8080/"
        },
        "id": "FrimUr30zQmL",
        "outputId": "fdf3b1c5-00e7-4b73-db3f-02f33fd35a05"
      },
      "execution_count": 17,
      "outputs": [
        {
          "output_type": "stream",
          "name": "stdout",
          "text": [
            "Enter first number: 2\n",
            "Enter second number: 3\n",
            "23\n"
          ]
        }
      ]
    },
    {
      "cell_type": "markdown",
      "source": [
        "**Problem Description:** A says Hi to B\n",
        "\n",
        "Take two names A and B as input from the user, print \"A says Hi to B\" (Without quotations), where A and B are the names in input."
      ],
      "metadata": {
        "id": "2MGU-_9Mz5xW"
      }
    },
    {
      "cell_type": "code",
      "source": [
        "def say_hi(name1, name2):\n",
        "  try:\n",
        "    print(name1, \"says Hi to\", name2)\n",
        "  except TypeError:\n",
        "    print(\"Error: Name must be a string.\")\n",
        "name1 = input(\"Enter first name: \")\n",
        "name2 = input(\"Enter second name: \")\n",
        "say_hi(name1, name2)"
      ],
      "metadata": {
        "colab": {
          "base_uri": "https://localhost:8080/"
        },
        "id": "UZd_eXvX0A2c",
        "outputId": "9aa221a8-0b85-42df-9511-6aeef63fce05"
      },
      "execution_count": 18,
      "outputs": [
        {
          "output_type": "stream",
          "name": "stdout",
          "text": [
            "Enter first name: John\n",
            "Enter second name: Sam\n",
            "John says Hi to Sam\n"
          ]
        }
      ]
    },
    {
      "cell_type": "markdown",
      "source": [
        "**Problem Description:** Remaining bake time\n",
        "\n",
        "You're going to write some code to help you cook a gorgeous lasagna from your favorite cookbook. According to your cookbook, the Lasagna should be in the oven for 40 minutes. Given the time (in minutes), the lasagna has been in the oven, find how many more minutes the lasagna still needs to bake for.\n",
        "\n",
        "\n",
        "**Problem Constraints**\n",
        "0 <= N <= 40\n",
        "\n",
        "\n",
        "**Input Format**\n",
        "The only first line contains the integer N, denoting the actual time (in minutes) the lasagna has been in the oven for.\n",
        "\n",
        "\n",
        "**Output Format**\n",
        "Print in a single line how many minutes the lasagna needs to bake.\n",
        "\n",
        "\n",
        "**Example Input**\n",
        "Input:\n",
        "30\n",
        "\n",
        "\n",
        "**Example Output**\n",
        "Output:\n",
        "10"
      ],
      "metadata": {
        "id": "2O7Survg0h1z"
      }
    },
    {
      "cell_type": "code",
      "source": [
        "def remaining_bake_time(time):\n",
        "  try:\n",
        "    remaining_time = 40 - time\n",
        "    return print(f\"The remaining time to cook lasagna is {remaining_time} minutes.\")\n",
        "  except TypeError:\n",
        "    return \"Error: Time must be an integer.\"\n",
        "time = int(input(\"Enter the time in minutes: \"))\n",
        "print(remaining_bake_time(time))"
      ],
      "metadata": {
        "colab": {
          "base_uri": "https://localhost:8080/"
        },
        "id": "EIXC4_XF0tip",
        "outputId": "06b33aee-4fab-4326-f7a0-6190e49e93eb"
      },
      "execution_count": 20,
      "outputs": [
        {
          "output_type": "stream",
          "name": "stdout",
          "text": [
            "Enter the time in minutes: 34\n",
            "The remaining time to cook lasagna is 6 minutes.\n",
            "None\n"
          ]
        }
      ]
    },
    {
      "cell_type": "markdown",
      "source": [
        "**Problem Description:**  Preparation Time\n",
        "\n",
        "You'll write some code to help you cook a gorgeous lasagna from your favorite cookbook. Now, you also want to add a few layers to the lasagna. Assume **each layer takes 2 minutes** to prepare. Given the number of layers you want to add to the lasagna, find how many minutes you would spend making them.\n",
        "\n",
        "\n",
        "**Input Format**\n",
        "The only first line contains the integer N denoting the number of layers.\n",
        "\n",
        "\n",
        "**Output Format**\n",
        "Print in a single line how many minutes are required to prepare N layers.\n",
        "\n",
        "\n",
        "**Example Input**\n",
        "Input:-\n",
        "2\n",
        "\n",
        "\n",
        "**Example Output**\n",
        "Output:-\n",
        "4"
      ],
      "metadata": {
        "id": "DrZjm4nH1Z5-"
      }
    },
    {
      "cell_type": "code",
      "source": [
        "def preparation_time(layers):\n",
        "  try:\n",
        "    preparation_time = layers * 2\n",
        "    return print(f\"The preparation time for {layers} layers is {preparation_time} minutes.\")\n",
        "  except TypeError:\n",
        "    return \"Error: Number of layers must be an integer.\"\n",
        "layers = int(input(\"Enter the number of layers: \"))\n",
        "print(preparation_time(layers))"
      ],
      "metadata": {
        "colab": {
          "base_uri": "https://localhost:8080/"
        },
        "id": "z5luiuwA1kPj",
        "outputId": "8b4fd0f4-4c36-410e-e527-5ebc93930ca2"
      },
      "execution_count": 21,
      "outputs": [
        {
          "output_type": "stream",
          "name": "stdout",
          "text": [
            "Enter the number of layers: 4\n",
            "The preparation time for 4 layers is 8 minutes.\n",
            "None\n"
          ]
        }
      ]
    },
    {
      "cell_type": "markdown",
      "source": [
        "**Problem Description:** Total Elapsed Cooking Time\n",
        "\n",
        "You wrote some code to help you cook a gorgeous lasagna from your favorite cookbook. Now, you want to find the total number of minutes you've been cooking for the sum of your preparation time and the time the lasagna has already spent baking in the oven. The preparation time of one layer is 2 minutes. Given the number of layers added to the lasagna and the number of minutes the lasagna has been baking in the oven, find the total elapsed cooking time (prep + bake) in minutes.\n",
        "\n",
        "\n",
        "**Problem Constraints**\n",
        "1 <= N <= 20\n",
        "0 <= M <= 40\n",
        "\n",
        "\n",
        "**Input Format**\n",
        "There are 2 lines in the input.\n",
        "The first line contains the integer N denoting the number of layers.\n",
        "The second line contains the integer M denoting the time the lasagna has already spent baking in the oven.\n",
        "\n",
        "\n",
        "**Output Format**\n",
        "Print in a single line the total elapsed cooking time.\n",
        "\n",
        "\n",
        "**Example Input**\n",
        "Input 1:-\n",
        "3\n",
        "20\n",
        "\n",
        "**Input 2**:-\n",
        "1\n",
        "29\n",
        "\n",
        "\n",
        "**Example Output**\n",
        "Output 1:-\n",
        "26\n",
        "\n",
        "**Output 2**:-\n",
        "31"
      ],
      "metadata": {
        "id": "HYLNuXc21tM5"
      }
    },
    {
      "cell_type": "code",
      "source": [
        "def total_elapsed_cooking_time(layers, baking_time):\n",
        "  try:\n",
        "    preparation_time = layers * 2\n",
        "    total_time = preparation_time + baking_time\n",
        "    return print(f\"The total elapsed cooking time is {total_time} minutes.\")\n",
        "  except TypeError:\n",
        "    return \"Error: Number of layers and baking time must be integers.\"\n",
        "layers = int(input(\"Enter the number of layers: \"))\n",
        "baking_time = int(input(\"Enter the time the lasagna has been baking in the oven: \"))\n",
        "print(total_elapsed_cooking_time(layers, baking_time))"
      ],
      "metadata": {
        "colab": {
          "base_uri": "https://localhost:8080/"
        },
        "id": "k97SSO8Z2ChQ",
        "outputId": "829df528-ce4f-4ffc-fc18-8278ec7f8292"
      },
      "execution_count": 22,
      "outputs": [
        {
          "output_type": "stream",
          "name": "stdout",
          "text": [
            "Enter the number of layers: 21\n",
            "Enter the time the lasagna has been baking in the oven: 4\n",
            "The total elapsed cooking time is 46 minutes.\n",
            "None\n"
          ]
        }
      ]
    },
    {
      "cell_type": "markdown",
      "source": [
        "**Problem Description**\n",
        "\n",
        "Your friend Rahul plans to visit exotic countries all around the world. Sadly, Rahul's math skills aren't good enough. Take the amount of money Rahul has before the currency exchange and the amount of money that is spent from his savings as input, print the amount of money that remains in his savings.\n",
        "\n",
        "**Input Format**\n",
        "\n",
        "The first line contains an integer N denoting the total savings, the amount of money before exchange.\n",
        "The second line contains an integer M denoting the exchanging amount, denoting the amount of money that is spent from the savings.\n",
        "Output Format\n",
        "\n",
        "Print a single line denoting the amount of money that is left in his savings.\n",
        "\n",
        "**Problem Constraints**\n",
        "\n",
        "1 <= N <= 1000\n",
        "1 <= M <= N\n",
        "\n",
        "**Example Input**\n",
        "\n",
        "Input:-\n",
        "116\n",
        "12\n",
        "\n",
        "**Example Output**\n",
        "\n",
        "Output:-\n",
        "104"
      ],
      "metadata": {
        "id": "yIZGfDAp2jL2"
      }
    },
    {
      "cell_type": "code",
      "source": [
        "def remaining_savings(savings, exchange):\n",
        "  try:\n",
        "    remaining_savings = savings - exchange\n",
        "    return print(f\"The remaining savings after exchange is {remaining_savings}.\")\n",
        "  except TypeError:\n",
        "    return \"Error: Savings and exchange must be integers.\"\n",
        "savings = int(input(\"Enter the total savings: \"))\n",
        "exchange = int(input(\"Enter the exchanging amount: \"))\n",
        "remaining_savings(savings, exchange)"
      ],
      "metadata": {
        "colab": {
          "base_uri": "https://localhost:8080/"
        },
        "id": "SDoOLNhQ2RJf",
        "outputId": "6cc57870-6ca2-4e9f-ed25-5e69e56e22dd"
      },
      "execution_count": 25,
      "outputs": [
        {
          "output_type": "stream",
          "name": "stdout",
          "text": [
            "Enter the total savings: 345\n",
            "Enter the exchanging amount: 21\n",
            "The remaining savings after exchange is 324.\n"
          ]
        }
      ]
    },
    {
      "cell_type": "markdown",
      "source": [
        "**Problem Description:** Total Bills Value\n",
        "\n",
        "Given the value of a single bill and the number of bills you received, print the total value of the bills.\n",
        "\n",
        "Note: The value of all the bills are same\n",
        "\n",
        "\n",
        "**Problem Constraints**\n",
        "1 <= N <= 100\n",
        "1 <= M <= 100\n",
        "\n",
        "\n",
        "**Input Format**\n",
        "The first line of the input is an integer N denoting the value of a single bill.\n",
        "The second line of the input is an integer M denoting the number of bills.\n",
        "\n",
        "\n",
        "**Output Format**\n",
        "Print in a single line denoting the total value of bills.\n",
        "\n",
        "\n",
        "**Example Input**\n",
        "Input:-\n",
        "12\n",
        "10\n",
        "\n",
        "\n",
        "**Example Output**\n",
        "Output:-\n",
        "120"
      ],
      "metadata": {
        "id": "yeAvXqQZ3dYC"
      }
    },
    {
      "cell_type": "code",
      "source": [
        "def total_bill_value(bill_value, num_bills):\n",
        "  try:\n",
        "    total_value = bill_value * num_bills\n",
        "    return print(f\"The total value of bills is {total_value}.\")\n",
        "  except TypeError:\n",
        "    return \"Error: Bill value and number of bills must be integers.\"\n",
        "bill_value = int(input(\"Enter the value of a single bill: \"))\n",
        "num_bills = int(input(\"Enter the number of bills: \"))\n",
        "total_bill_value(bill_value, num_bills)"
      ],
      "metadata": {
        "colab": {
          "base_uri": "https://localhost:8080/"
        },
        "id": "NPbvX1rP3CEI",
        "outputId": "59bf6b14-0948-42e1-b839-c05a0fe6d4b6"
      },
      "execution_count": 26,
      "outputs": [
        {
          "output_type": "stream",
          "name": "stdout",
          "text": [
            "Enter the value of a single bill: 10\n",
            "Enter the number of bills: 100\n",
            "The total value of bills is 1000.\n"
          ]
        }
      ]
    },
    {
      "cell_type": "code",
      "source": [],
      "metadata": {
        "id": "IPtXywwe34f1"
      },
      "execution_count": null,
      "outputs": []
    }
  ]
}