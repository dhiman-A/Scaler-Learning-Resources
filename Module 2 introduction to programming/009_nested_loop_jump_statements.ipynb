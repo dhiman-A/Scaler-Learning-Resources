{
  "nbformat": 4,
  "nbformat_minor": 0,
  "metadata": {
    "colab": {
      "provenance": [],
      "authorship_tag": "ABX9TyOvQzWme710+RXWiuB5q0+S",
      "include_colab_link": true
    },
    "kernelspec": {
      "name": "python3",
      "display_name": "Python 3"
    },
    "language_info": {
      "name": "python"
    }
  },
  "cells": [
    {
      "cell_type": "markdown",
      "metadata": {
        "id": "view-in-github",
        "colab_type": "text"
      },
      "source": [
        "<a href=\"https://colab.research.google.com/github/dhiman-A/Scaler-Learning-Resources/blob/main/Module%202%20introduction%20to%20programming/009_nested_loop_jump_statements.ipynb\" target=\"_parent\"><img src=\"https://colab.research.google.com/assets/colab-badge.svg\" alt=\"Open In Colab\"/></a>"
      ]
    },
    {
      "cell_type": "markdown",
      "source": [
        "**Problem Description:** Reverse game\n",
        "\n",
        "Write a program that accepts T numbers(N) from the user and find reverse of the given number(N).\n",
        "\n",
        "\n",
        "**Problem Constraints**\n",
        "\n",
        "1 <= T <= 100\n",
        "\n",
        "1 <= N <= 100000000\n",
        "\n",
        "\n",
        "\n",
        "**Input Format**\n",
        "\n",
        "First line is T which means number of test cases.\n",
        "\n",
        "Each next N lines contain an integer N.\n",
        "\n",
        "\n",
        "\n",
        "**Output Format**\n",
        "\n",
        "T lines each containing reverse of the input integer.\n",
        "\n",
        "\n",
        "\n",
        "**Example Input**\n",
        "\n",
        "Input 1:\n",
        "\n",
        "2\n",
        "\n",
        "101\n",
        "\n",
        "105\n",
        "\n",
        "Input 2:\n",
        "\n",
        "1\n",
        "\n",
        "100\n",
        "\n",
        "\n",
        "**Example Output**\n",
        "\n",
        "Output 1:\n",
        "\n",
        "101\n",
        "\n",
        "501\n",
        "\n",
        "Output 2:\n",
        "\n",
        "1\n",
        "\n",
        "001"
      ],
      "metadata": {
        "id": "g61PpsW38jrY"
      }
    },
    {
      "cell_type": "code",
      "execution_count": 1,
      "metadata": {
        "colab": {
          "base_uri": "https://localhost:8080/"
        },
        "id": "BpVu2iaS748b",
        "outputId": "71fc87a9-5817-4f6a-c31e-92cd85c2d0d7"
      },
      "outputs": [
        {
          "output_type": "stream",
          "name": "stdout",
          "text": [
            "2\n",
            "109\n",
            "901\n",
            "487\n",
            "784\n"
          ]
        }
      ],
      "source": [
        "t = int(input())\n",
        "for i in range(t):\n",
        "    n = str(input())\n",
        "    print(n[::-1])"
      ]
    },
    {
      "cell_type": "markdown",
      "source": [
        "**Problem Description:** Palindrome integer\n",
        "\n",
        "You are given an integer A as input and you need to determine whether it is a palindrome or not.\n",
        "\n",
        "A palindrome integer is one whose digits, when reversed, result in the same number.\n",
        "\n",
        "For example, 121 is a palindrome because its reverse is also 121, but 123 is not a palindrome because its reverse is 321.\n",
        "\n",
        "Note: The given integer will not have any leading zeros.\n",
        "\n",
        "\n",
        "**Problem Constraints**\n",
        "1 <= A <= 106\n",
        "\n",
        "\n",
        "\n",
        "**Input Format**\n",
        "\n",
        "First and the only line contains a single integer A.\n",
        "\n",
        "\n",
        "\n",
        "**Output Format**\n",
        "\n",
        "Print Yes if it is palindromic, else print No.\n",
        "\n",
        "\n",
        "\n",
        "**Example Input**\n",
        "\n",
        "Input 1:\n",
        "\n",
        " 120\n",
        "\n",
        "Input 2:\n",
        "\n",
        " 1001\n",
        "\n",
        "Input 3:\n",
        "\n",
        " 131\n",
        "\n",
        "\n",
        "**Example Output**\n",
        "\n",
        "Output 1:\n",
        "\n",
        " No\n",
        "\n",
        "Output 2:\n",
        "\n",
        " Yes\n",
        "\n",
        "Output 3:\n",
        "\n",
        " Yes"
      ],
      "metadata": {
        "id": "JwHPvDLK9WBW"
      }
    },
    {
      "cell_type": "code",
      "source": [
        "n = int(input())\n",
        "if str(n) == str(n)[::-1]:\n",
        "    print(\"Yes\")\n",
        "else:\n",
        "    print(\"No\")"
      ],
      "metadata": {
        "colab": {
          "base_uri": "https://localhost:8080/"
        },
        "id": "feKDkl949F_b",
        "outputId": "6ba2dc06-5dd9-48a4-a930-76fbbefad1c3"
      },
      "execution_count": 2,
      "outputs": [
        {
          "output_type": "stream",
          "name": "stdout",
          "text": [
            "232\n",
            "Yes\n"
          ]
        }
      ]
    },
    {
      "cell_type": "markdown",
      "source": [
        "**Problem Description:** HCF using loop\n",
        "\n",
        "Write a program to input an integer T which represents the number of test cases. For each test case input two integers A and B in two different lines. For each pair of A and B print the HCF of the given two numbers.\n",
        "\n",
        "\n",
        "**Problem Constraints**\n",
        "\n",
        "1 <= T <= 1000\n",
        "\n",
        "1 <= A,B <= 1000000\n",
        "\n",
        "\n",
        "\n",
        "**Input Format**\n",
        "\n",
        "The first line of input contains T which means number of test cases.\n",
        "\n",
        "Next 2T lines contains input A and B for each testcase.\n",
        "First line of each testcase contain an integer A and second line of the testcase contains input B.\n",
        "\n",
        "\n",
        "\n",
        "**Output Format**\n",
        "\n",
        "T lines each containing an integer representing HCF of A & B.\n",
        "\n",
        "\n",
        "\n",
        "**Example Input**\n",
        "\n",
        "Input 1:\n",
        "\n",
        "2\n",
        "\n",
        "15\n",
        "\n",
        "105\n",
        "\n",
        "24\n",
        "\n",
        "36\n",
        "\n",
        "\n",
        "**Example Output**\n",
        "\n",
        "Output 1:\n",
        "\n",
        "15\n",
        "\n",
        "12"
      ],
      "metadata": {
        "id": "EfTHGb6h95mg"
      }
    },
    {
      "cell_type": "code",
      "source": [
        "t = int(input())\n",
        "for i in range(t):\n",
        "    a,b = map(int,input().split())\n",
        "    for j in range(1,min(a,b)+1):\n",
        "        if a%j==0 and b%j==0:\n",
        "            hcf = j\n",
        "    print(hcf)"
      ],
      "metadata": {
        "colab": {
          "base_uri": "https://localhost:8080/"
        },
        "id": "x8mpj6fa9oo5",
        "outputId": "c4660a37-5264-4638-a7af-ff4e84ae4749"
      },
      "execution_count": 4,
      "outputs": [
        {
          "output_type": "stream",
          "name": "stdout",
          "text": [
            "2\n",
            "23 21\n",
            "1\n",
            "89 78\n",
            "1\n"
          ]
        }
      ]
    },
    {
      "cell_type": "markdown",
      "source": [
        "**Problem Description:** LCM\n",
        "\n",
        "Write a program to input an integer T and then for each test case input two integers A and B in two different lines and then print T lines containing Least Common Multiple (LCM) of two given 2 numbers A and B.\n",
        "\n",
        "Note: LCM of two integers is the smallest positive integer divisible by both.\n",
        "\n",
        "\n",
        "**Problem Constraints**\n",
        "\n",
        "1 <= T <= 1000\n",
        "\n",
        "1 <= A,B <= 1000\n",
        "\n",
        "**Input Format**\n",
        "\n",
        "The first line contains T which means number of test cases.\n",
        "\n",
        "Next 2T lines contains input A and B for each testcase.\n",
        "First line of each testcase contain an integer A and second line of the testcase contains input B.\n",
        "\n",
        "**Output Format**\n",
        "\n",
        "T lines each containing an integer representing LCM of A & B.\n",
        "\n",
        "**Example Input**\n",
        "\n",
        "Input 1:\n",
        "\n",
        "3\n",
        "\n",
        "2\n",
        "\n",
        "3\n",
        "\n",
        "9\n",
        "\n",
        "6\n",
        "\n",
        "2\n",
        "\n",
        "6\n",
        "\n",
        "\n",
        "**Example Output**\n",
        "\n",
        "Output 1:\n",
        "\n",
        "6\n",
        "\n",
        "18\n",
        "\n",
        "6"
      ],
      "metadata": {
        "id": "TE_DWnrQ--lF"
      }
    },
    {
      "cell_type": "code",
      "source": [
        "t = int(input())\n",
        "lcm =0\n",
        "for i in range(t):\n",
        "    a,b = map(int,input().split())\n",
        "    for j in range(1,max(a,b)+1):\n",
        "        if j%a==0 and j%b==0:\n",
        "            lcm = j\n",
        "            break\n",
        "    print(lcm)"
      ],
      "metadata": {
        "colab": {
          "base_uri": "https://localhost:8080/"
        },
        "id": "BcZk1uVV-knP",
        "outputId": "48703f55-7810-4cd5-d7f6-570f72e4a178"
      },
      "execution_count": 6,
      "outputs": [
        {
          "output_type": "stream",
          "name": "stdout",
          "text": [
            "3\n",
            "2 4\n",
            "4\n",
            "5 78\n",
            "4\n",
            "5 2\n",
            "4\n"
          ]
        }
      ]
    },
    {
      "cell_type": "code",
      "source": [
        "# print value\n",
        "for i in range(1):\n",
        "    for j in range(2):\n",
        "        for k in range(1):\n",
        "            print(\"a\", end=\" \")\n",
        "        print(end=\"\")\n",
        "    print(\"c\")"
      ],
      "metadata": {
        "colab": {
          "base_uri": "https://localhost:8080/"
        },
        "id": "HdniIkcO_R7a",
        "outputId": "03818fa3-7fc0-4604-dfbc-8cf16fbeadb8"
      },
      "execution_count": 7,
      "outputs": [
        {
          "output_type": "stream",
          "name": "stdout",
          "text": [
            "a a c\n"
          ]
        }
      ]
    },
    {
      "cell_type": "markdown",
      "source": [
        "**Problem Description:** Inverted numeric pyramid\n",
        "\n",
        "Take an integer N as input, print the corresponding Numeric Inverted Half Pyramid pattern for N.\n",
        "\n",
        "For example if N = 4 then pattern will be like:\n",
        "\n",
        "1 2 3 4\n",
        "1 2 3\n",
        "1 2\n",
        "1\n",
        "\n",
        "**Problem Constraints**\n",
        "\n",
        "1 <= N <= 100\n",
        "\n",
        "\n",
        "\n",
        "**Input Format**\n",
        "\n",
        "First and only line of input contains a single integer N.\n",
        "\n",
        "\n",
        "\n",
        "**Output Format**\n",
        "\n",
        "Output the Numeric Inverted Half Pyramid pattern corresponding to the given N."
      ],
      "metadata": {
        "id": "D7qrjU6j_2gc"
      }
    },
    {
      "cell_type": "code",
      "source": [
        "n = int(input())\n",
        "for i in range(n,0,-1):\n",
        "    for j in range(1,i+1):\n",
        "        print(j,end=\" \")\n",
        "    print()"
      ],
      "metadata": {
        "colab": {
          "base_uri": "https://localhost:8080/"
        },
        "id": "kJqqEhTg_rwD",
        "outputId": "c9e1ea25-ce10-4095-cb71-f2f492d4dfdc"
      },
      "execution_count": 8,
      "outputs": [
        {
          "output_type": "stream",
          "name": "stdout",
          "text": [
            "4\n",
            "1 2 3 4 \n",
            "1 2 3 \n",
            "1 2 \n",
            "1 \n"
          ]
        }
      ]
    },
    {
      "cell_type": "markdown",
      "source": [
        "**Problem Description:** stair pattern\n",
        "\n",
        "Take an integer N as input, print the corresponding stair pattern for N.\n",
        "\n",
        "For example if N = 4 then stair pattern will be like:\n",
        "```\n",
        "*\n",
        "\n",
        "**\n",
        "\n",
        "***\n",
        "\n",
        "****\n",
        "```\n",
        "**Problem Constraints**\n",
        "\n",
        "1 <= N <= 100\n",
        "\n",
        "\n",
        "\n",
        "**Input Format**\n",
        "\n",
        "First and only line of input contains a single integer N.\n",
        "\n",
        "\n",
        "\n",
        "**Output Format**\n",
        "\n",
        "Output the stair pattern corresponding to the given N."
      ],
      "metadata": {
        "id": "dzY-JyzzATvf"
      }
    },
    {
      "cell_type": "code",
      "source": [
        "n = int(input())\n",
        "for i in range(1,n+1):\n",
        "    for j in range(1,i+1):\n",
        "        print(\"*\",end=\" \")\n",
        "    print()"
      ],
      "metadata": {
        "colab": {
          "base_uri": "https://localhost:8080/"
        },
        "id": "d39ouwcUAPkk",
        "outputId": "c52c6548-e545-4d2f-a8f7-9f2bea5f3f9e"
      },
      "execution_count": 9,
      "outputs": [
        {
          "output_type": "stream",
          "name": "stdout",
          "text": [
            "5\n",
            "* \n",
            "* * \n",
            "* * * \n",
            "* * * * \n",
            "* * * * * \n"
          ]
        }
      ]
    },
    {
      "cell_type": "markdown",
      "source": [
        "**Problem Description:** numeric stair pattern\n",
        "\n",
        "Take an integer N as input, print the corresponding pattern for N.\n",
        "\n",
        "For example if N = 4 then pattern will be like:\n",
        "\n",
        "1\n",
        "\n",
        "1 2\n",
        "\n",
        "1 2 3\n",
        "\n",
        "1 2 3 4\n",
        "\n",
        "NOTE: There should be no extra spaces after last integer.\n",
        "\n",
        "**Problem Constraints**\n",
        "\n",
        "1 <= N <= 100\n",
        "\n",
        "**Input Format**\n",
        "\n",
        "First and only line of input contains a single integer N.\n",
        "\n",
        "**Output Format**\n",
        "\n",
        "Output the pattern corresponding to the given N."
      ],
      "metadata": {
        "id": "Y526z3MPAvmN"
      }
    },
    {
      "cell_type": "code",
      "source": [
        "n = int(input())\n",
        "for i in range(1,n+1):\n",
        "    for j in range(1,i+1):\n",
        "        print(j,end=\" \")\n",
        "    print()"
      ],
      "metadata": {
        "colab": {
          "base_uri": "https://localhost:8080/"
        },
        "id": "E5xbAAgMAo-b",
        "outputId": "4e72bf8a-c6d4-4800-9f07-891f3a8ff9df"
      },
      "execution_count": 10,
      "outputs": [
        {
          "output_type": "stream",
          "name": "stdout",
          "text": [
            "4\n",
            "1 \n",
            "1 2 \n",
            "1 2 3 \n",
            "1 2 3 4 \n"
          ]
        }
      ]
    },
    {
      "cell_type": "code",
      "source": [],
      "metadata": {
        "id": "y5feoYgRA77D"
      },
      "execution_count": null,
      "outputs": []
    }
  ]
}