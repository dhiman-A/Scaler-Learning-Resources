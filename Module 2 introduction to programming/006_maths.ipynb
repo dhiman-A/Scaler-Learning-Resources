{
  "nbformat": 4,
  "nbformat_minor": 0,
  "metadata": {
    "colab": {
      "provenance": [],
      "authorship_tag": "ABX9TyNgv6GqZhJPD6nCRFWFieJA",
      "include_colab_link": true
    },
    "kernelspec": {
      "name": "python3",
      "display_name": "Python 3"
    },
    "language_info": {
      "name": "python"
    }
  },
  "cells": [
    {
      "cell_type": "markdown",
      "metadata": {
        "id": "view-in-github",
        "colab_type": "text"
      },
      "source": [
        "<a href=\"https://colab.research.google.com/github/dhiman-A/Scaler-Learning-Resources/blob/main/Module%202%20introduction%20to%20programming/006_maths.ipynb\" target=\"_parent\"><img src=\"https://colab.research.google.com/assets/colab-badge.svg\" alt=\"Open In Colab\"/></a>"
      ]
    },
    {
      "cell_type": "markdown",
      "source": [
        "**To convert a decimal number to binary use bin() function.**"
      ],
      "metadata": {
        "id": "EeRytfj14SOx"
      }
    },
    {
      "cell_type": "code",
      "execution_count": 1,
      "metadata": {
        "id": "9Q94kAr9N69d",
        "colab": {
          "base_uri": "https://localhost:8080/",
          "height": 35
        },
        "outputId": "83be2759-70e9-44e2-d1c6-7c3fe9473c8e"
      },
      "outputs": [
        {
          "output_type": "execute_result",
          "data": {
            "text/plain": [
              "'0b100010'"
            ],
            "application/vnd.google.colaboratory.intrinsic+json": {
              "type": "string"
            }
          },
          "metadata": {},
          "execution_count": 1
        }
      ],
      "source": [
        "bin(34)"
      ]
    },
    {
      "cell_type": "code",
      "source": [
        "bin(76)"
      ],
      "metadata": {
        "colab": {
          "base_uri": "https://localhost:8080/",
          "height": 35
        },
        "id": "R95ato0w4HzQ",
        "outputId": "24f0c704-2e47-407d-a3dc-c344f3226e59"
      },
      "execution_count": 2,
      "outputs": [
        {
          "output_type": "execute_result",
          "data": {
            "text/plain": [
              "'0b1001100'"
            ],
            "application/vnd.google.colaboratory.intrinsic+json": {
              "type": "string"
            }
          },
          "metadata": {},
          "execution_count": 2
        }
      ]
    },
    {
      "cell_type": "markdown",
      "source": [
        "**Problem Description:**Check even/odd\n",
        "\n",
        "Write a program to input an integer from user and print 1 if it is odd otherwise print 0.\n",
        "\n",
        "**Problem Constraints**\n",
        "1 <= N <= 1000000\n",
        "\n",
        "\n",
        "\n",
        "**Input Format**\n",
        "One line containing an integer N.\n",
        "\n",
        "\n",
        "\n",
        "**Output Format**\n",
        "Print either 1 or 0 as per the question.\n",
        "\n",
        "\n",
        "\n",
        "**Example Input**\n",
        "\n",
        "Input 1:\n",
        "\n",
        "5\n",
        "\n",
        "Input 2:\n",
        "\n",
        "1000\n",
        "\n",
        "\n",
        "**Example Output**\n",
        "\n",
        "Output 1:\n",
        "\n",
        "1\n",
        "\n",
        "Output 2:\n",
        "\n",
        "0"
      ],
      "metadata": {
        "id": "hOdgIHWcYoWc"
      }
    },
    {
      "cell_type": "code",
      "source": [
        "def even_odd(n):\n",
        "  if n%2!=0:\n",
        "    return 1\n",
        "  else:\n",
        "    return 0\n",
        "n = int(input())\n",
        "print(even_odd(n))"
      ],
      "metadata": {
        "colab": {
          "base_uri": "https://localhost:8080/"
        },
        "id": "zql5UJLb4QPb",
        "outputId": "12b3d7b6-1dee-458c-f831-c68c3f45706b"
      },
      "execution_count": 1,
      "outputs": [
        {
          "output_type": "stream",
          "name": "stdout",
          "text": [
            "5\n",
            "1\n"
          ]
        }
      ]
    },
    {
      "cell_type": "markdown",
      "source": [
        "**Problem Description:** Divisibility by 5 and 11\n",
        "\n",
        "Take an integer A as input. You have to tell whether A is divible by both 5 and 11 or not.\n",
        "\n",
        "**Problem Constraints** 1 <= A <= 109\n",
        "\n",
        "**Input Format** The input contains a single integer A.\n",
        "\n",
        "**Output Format** Print 1 if A is divisible by both 5 and 11, else print 0.\n",
        "\n",
        "**Example Input**\n",
        "\n",
        "Input 1:55\n",
        "\n",
        "Input 2:22\n",
        "\n",
        "**Example Output**\n",
        "\n",
        "Output 1: 1\n",
        "\n",
        "Output 2: 0"
      ],
      "metadata": {
        "id": "WL3MlqLEZMlI"
      }
    },
    {
      "cell_type": "code",
      "source": [
        "def divisible(a):\n",
        "  if a%5==0 and a%11==0:\n",
        "    return 1\n",
        "  else:\n",
        "    return 0\n",
        "a = int(input(\"Enter a number:\"))\n",
        "print(divisible(a))"
      ],
      "metadata": {
        "colab": {
          "base_uri": "https://localhost:8080/"
        },
        "id": "YzahH5u2ZA7M",
        "outputId": "7493f022-6f73-4880-d433-e4719929e0e5"
      },
      "execution_count": 2,
      "outputs": [
        {
          "output_type": "stream",
          "name": "stdout",
          "text": [
            "Enter a number:55\n",
            "1\n"
          ]
        }
      ]
    },
    {
      "cell_type": "code",
      "source": [
        "#What is the output of this code?\n",
        "\n",
        "print(sum(range(0, 7)))"
      ],
      "metadata": {
        "colab": {
          "base_uri": "https://localhost:8080/"
        },
        "id": "GjCHOXLOZ2ID",
        "outputId": "05abc0b0-4d11-4690-b820-08073cfca051"
      },
      "execution_count": 3,
      "outputs": [
        {
          "output_type": "stream",
          "name": "stdout",
          "text": [
            "21\n"
          ]
        }
      ]
    },
    {
      "cell_type": "code",
      "source": [
        "# What is the value (in base 10) of the binary number 10000?\n",
        "binary_num = \"10000\"\n",
        "print(int(binary_num, 2))"
      ],
      "metadata": {
        "colab": {
          "base_uri": "https://localhost:8080/"
        },
        "id": "W63Rtrj2aAZB",
        "outputId": "d117ac68-a8e9-4500-b683-562f83fa6297"
      },
      "execution_count": 4,
      "outputs": [
        {
          "output_type": "stream",
          "name": "stdout",
          "text": [
            "16\n"
          ]
        }
      ]
    },
    {
      "cell_type": "markdown",
      "source": [
        "If a binary number ends in 1 (like 1001 or 111011), then it is __always odd__\n",
        "\n",
        "Explanation:\n",
        "\n",
        "In base 10, an even number ends in 0, 2, 4, 6, or 8. In binary, these are 0, 10, 100, 110, and 1000.\n",
        "In base 10, an odd number ends in 1, 3, 5, 7, or 9. In binary, these are 1, 11, 101, 111, and 1001.\n",
        "In the binary system, 1 is added at the last or the zeroth place.\n",
        "Since adding this one to an even number makes it odd, all the numbers in the binary system that end with 1 are odd."
      ],
      "metadata": {
        "id": "uXPl8rWhbCwl"
      }
    },
    {
      "cell_type": "code",
      "source": [
        "\"\"\"\n",
        "Which binary number is larger?\n",
        "a. 1111\n",
        "b. 10000\n",
        "\"\"\"\n",
        "\n",
        "print(int(\"1111\", 2))\n",
        "print(int(\"10000\", 2))\n",
        "# Ans 10000 > 1111"
      ],
      "metadata": {
        "colab": {
          "base_uri": "https://localhost:8080/"
        },
        "id": "fk54FG3RbKBJ",
        "outputId": "aa9239fc-e571-4255-fb20-ec3304e8ee98"
      },
      "execution_count": 6,
      "outputs": [
        {
          "output_type": "stream",
          "name": "stdout",
          "text": [
            "15\n",
            "16\n"
          ]
        }
      ]
    },
    {
      "cell_type": "code",
      "source": [
        "\"\"\"\n",
        "What is the result (in binary) of multiplying the binary number 1100 by the binary number 10?\n",
        "a. 1110\n",
        "b. 1111\n",
        "c. 11000\n",
        "d. 11111\n",
        "Note: Type the binary number (1110 or 1111 etc.), NOT the option (a or b etc) in the text box.\n",
        "\"\"\"\n",
        "print(bin(int(\"1100\", 2) * int(\"10\", 2))[2:])"
      ],
      "metadata": {
        "colab": {
          "base_uri": "https://localhost:8080/"
        },
        "id": "AVcYDdblbnJm",
        "outputId": "43cd8056-4d89-41c4-a9f3-d194c14f6939"
      },
      "execution_count": 9,
      "outputs": [
        {
          "output_type": "stream",
          "name": "stdout",
          "text": [
            "11000\n"
          ]
        }
      ]
    },
    {
      "cell_type": "markdown",
      "source": [
        "The binary numbers starting from 2 are listed below. Consider the second digit from the last.\n",
        "\n",
        "10, 11, 100, 101, 110, 111, 1000, 1001, 1010, 1011, 1100, 1101, 1110, 1111, ...\n",
        "\n",
        "\n",
        "Notice the pattern 1, 1, 0, 0, 1, 1, 0, 0, 1, 1, 0, 0, ...\n",
        "\n",
        "Does this pattern continue for all positive integers?\n",
        "\n",
        "__Explanation__\n",
        "\n",
        "There are three conditions that can happen:\n",
        "\n",
        "Condition 1:\n",
        "When the last digit is 0, adding 1 changes that digit to 1.\n",
        "For example, 1100 (8 + 4 = 12) turns into 1101 (8 + 4 + 1 = 13); the extra “+1” is accounted for by that last digit.\n",
        "\n",
        "Condition 2:\n",
        "When the last two digits are 01, adding 1 changes the digits to 10.\n",
        "For example, 1101 (8 + 4 + 1 = 13) becomes 1110 (8 + 4 + 2 = 14).\n",
        "\n",
        "Condition 3:\n",
        "When the last two digits are 11, adding 1 changes the digits to 00.\n",
        "For example, 1011 (8 + 2 + 1 = 11) becomes 1100 (8 + 4 = 12)\n",
        "\n",
        "These conditions rotate:\n",
        "10 → 11 (condition 1, last digit changes to 1)\n",
        "11 → 100 (condition 3, last two digits change to 00)\n",
        "100 → 101 (condition 1, last digit changes to 1)\n",
        "101 → 110 (condition 2, last two digits change to 10)\n",
        "110 → 111 (condition 1, last digit changes to 1)\n",
        "111 → 1000 (condition 3, last two digits change to 00).\n",
        "\n",
        "The rotation of conditions does not depend on anything other than the last two digits.\n",
        "So the last two digits go in the pattern 10, 11, 00, 01, … and repeat starting at 10 again, meaning when focusing on the second to last digit, the pattern will repeat 1, 1, 0, 0, … forever."
      ],
      "metadata": {
        "id": "zbTYzhDOclAr"
      }
    },
    {
      "cell_type": "code",
      "source": [
        "# What is log6(36^2)?\n",
        "import math\n",
        "print(math.log(36**2, 6))"
      ],
      "metadata": {
        "colab": {
          "base_uri": "https://localhost:8080/"
        },
        "id": "OOjIQ6VocDvv",
        "outputId": "fcab8037-d879-47a3-9cc1-05dfb9afb107"
      },
      "execution_count": 12,
      "outputs": [
        {
          "output_type": "stream",
          "name": "stdout",
          "text": [
            "4.0\n"
          ]
        }
      ]
    },
    {
      "cell_type": "code",
      "source": [
        "\"\"\"\n",
        "Which of these two numbers is larger?\n",
        "a. log10(1000)\n",
        "b. log2(9)\n",
        "\"\"\"\n",
        "import math\n",
        "print(math.log(1000,10))\n",
        "print(math.log(9,2))"
      ],
      "metadata": {
        "colab": {
          "base_uri": "https://localhost:8080/"
        },
        "id": "VysEjLBtdR8u",
        "outputId": "2fe297f4-4538-40dd-d2a0-7a48807d566d"
      },
      "execution_count": 13,
      "outputs": [
        {
          "output_type": "stream",
          "name": "stdout",
          "text": [
            "2.9999999999999996\n",
            "3.1699250014423126\n"
          ]
        }
      ]
    },
    {
      "cell_type": "code",
      "source": [
        "# The value of log2​(7) is\n",
        "import math\n",
        "print(math.log(7,2))"
      ],
      "metadata": {
        "colab": {
          "base_uri": "https://localhost:8080/"
        },
        "id": "tZtnXBe7eAJa",
        "outputId": "0fdf6539-f4c2-4fc9-e30a-a0b1a2d02f63"
      },
      "execution_count": 14,
      "outputs": [
        {
          "output_type": "stream",
          "name": "stdout",
          "text": [
            "2.807354922057604\n"
          ]
        }
      ]
    },
    {
      "cell_type": "code",
      "source": [
        "\"\"\"\n",
        "Here're some base-10 logarithms:\n",
        "log10(1000) = 3\n",
        "log10(49323) ≈ 4.69\n",
        "log10(100000) = 5\n",
        "log10(333333) ≈ 5.52\n",
        "Which statement is true?\n",
        "\"\"\"\n",
        "import math\n",
        "print(math.log(1000,10))\n",
        "print(math.log(49323,10))\n",
        "print(math.log(100000,10))\n",
        "print(math.log(333333,10))"
      ],
      "metadata": {
        "colab": {
          "base_uri": "https://localhost:8080/"
        },
        "id": "pvumXOQ1ePGg",
        "outputId": "83325f70-2ce0-4331-96e8-2c8c13f54aa0"
      },
      "execution_count": 15,
      "outputs": [
        {
          "output_type": "stream",
          "name": "stdout",
          "text": [
            "2.9999999999999996\n",
            "4.69304948405958\n",
            "5.0\n",
            "5.522878310985638\n"
          ]
        }
      ]
    }
  ]
}