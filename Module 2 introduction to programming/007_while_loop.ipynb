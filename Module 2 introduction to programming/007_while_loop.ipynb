{
  "nbformat": 4,
  "nbformat_minor": 0,
  "metadata": {
    "colab": {
      "provenance": [],
      "authorship_tag": "ABX9TyMTdIva2SbgnhgRaZDP5Evh",
      "include_colab_link": true
    },
    "kernelspec": {
      "name": "python3",
      "display_name": "Python 3"
    },
    "language_info": {
      "name": "python"
    }
  },
  "cells": [
    {
      "cell_type": "markdown",
      "metadata": {
        "id": "view-in-github",
        "colab_type": "text"
      },
      "source": [
        "<a href=\"https://colab.research.google.com/github/dhiman-A/Scaler-Learning-Resources/blob/main/Module%202%20introduction%20to%20programming/007_while_loop.ipynb\" target=\"_parent\"><img src=\"https://colab.research.google.com/assets/colab-badge.svg\" alt=\"Open In Colab\"/></a>"
      ]
    },
    {
      "cell_type": "markdown",
      "source": [
        "**Problem Description:** Floor A/B\n",
        "Given two numbers A and B. Print the floor of A/B.\n",
        "\n",
        "**Problem Constraints**\n",
        "1 <= A, B <= 104\n",
        "\n",
        "\n",
        "**Input Format**\n",
        "\n",
        "There are two input lines\n",
        "\n",
        "The first line has a single integer A.\n",
        "The second line has a single integer B.\n",
        "\n",
        "\n",
        "**Output Format**\n",
        "Print the floor of A/B in a single line.\n",
        "\n",
        "\n",
        "Example Input\n",
        "\n",
        "Input 1:-\n",
        "4\n",
        "\n",
        "5\n",
        "\n",
        "Input 2:-\n",
        "\n",
        "16\n",
        "\n",
        "2\n",
        "\n",
        "\n",
        "Example Output\n",
        "\n",
        "Output 1:-\n",
        "0\n",
        "\n",
        "Output 2:-\n",
        "8"
      ],
      "metadata": {
        "id": "WlK2KS-lmwZ4"
      }
    },
    {
      "cell_type": "code",
      "execution_count": 1,
      "metadata": {
        "colab": {
          "base_uri": "https://localhost:8080/"
        },
        "id": "BiMZ-Gd8msga",
        "outputId": "c7f3b7ae-ddc5-4ef2-f2b8-4ac6dbe08950"
      },
      "outputs": [
        {
          "output_type": "stream",
          "name": "stdout",
          "text": [
            "16\n",
            "2\n",
            "8\n"
          ]
        }
      ],
      "source": [
        "a = int(input())\n",
        "b = int(input())\n",
        "print(a//b)"
      ]
    },
    {
      "cell_type": "markdown",
      "source": [
        "**Problem Description:** Even game\n",
        "\n",
        "Write a program to print all even numbers from 1 to N where you have to take N as input from the user.\n",
        "Note: Use while-loop OR for-loop, according to session flow.\n",
        "\n",
        "Note: You can use int(input()) for obtaining user input of number N.\n",
        "\n",
        "**Problem Constraints**\n",
        "\n",
        "1 &lt;= N &lt;= 1000000\n",
        "\n",
        "**Input Format**\n",
        "\n",
        "A single line representing N\n",
        "\n",
        "**Output Format**\n",
        "\n",
        "All even numbers from 1 to N are separated by spaces.\n",
        "\n",
        "**Example Input**\n",
        "\n",
        "Input 1:\n",
        "5\n",
        "\n",
        "Input 2:\n",
        "10\n",
        "\n",
        "**Example Output**\n",
        "\n",
        "Output 1:\n",
        "2 4\n",
        "\n",
        "Output 2:\n",
        "2 4 6 8 10"
      ],
      "metadata": {
        "id": "Pr-UNTMXqRaB"
      }
    },
    {
      "cell_type": "code",
      "source": [
        "n = int(input())\n",
        "i = 1\n",
        "while i <= n:\n",
        "    if i % 2 == 0:\n",
        "        print(i, end = \" \")\n",
        "    i += 1"
      ],
      "metadata": {
        "colab": {
          "base_uri": "https://localhost:8080/"
        },
        "id": "SIAQXWSEnI0j",
        "outputId": "697b2d85-9459-4dc2-c3ce-f5dd39d51786"
      },
      "execution_count": 2,
      "outputs": [
        {
          "output_type": "stream",
          "name": "stdout",
          "text": [
            "24\n",
            "2 4 6 8 10 12 14 16 18 20 22 24 "
          ]
        }
      ]
    },
    {
      "cell_type": "markdown",
      "source": [
        "**Problem Description:** Odd game\n",
        "\n",
        "Write a program to print all odd numbers from 1 to N where you have to take N as input from the user.\n",
        "Note: Use while-loop OR for-loop, according to session flow.\n",
        "\n",
        "Note: You can use int(input()) for obtaining user input of number N.\n",
        "\n",
        "**Problem Constraints**\n",
        "\n",
        "1 &lt;= N &lt;= 1000000\n",
        "\n",
        "**Input Format**\n",
        "\n",
        "A single line representing N\n",
        "\n",
        "**Output Format**\n",
        "\n",
        "All odd numbers from 1 to N are separated by spaces.\n",
        "\n",
        "**Example Input**\n",
        "\n",
        "Input 1:\n",
        "5\n",
        "\n",
        "Input 2:\n",
        "10\n",
        "\n",
        "**Example Output**\n",
        "\n",
        "\n",
        "Output 1:\n",
        "\n",
        "1 3 5\n",
        "\n",
        "Output 2:\n",
        "\n",
        "1 3 5 7 9"
      ],
      "metadata": {
        "id": "B7q5EKWxq7Ka"
      }
    },
    {
      "cell_type": "code",
      "source": [
        "n = int(input())\n",
        "i = 1\n",
        "while i <= n:\n",
        "    if i % 2 != 0:\n",
        "        print(i, end = \" \")\n",
        "    i += 1"
      ],
      "metadata": {
        "colab": {
          "base_uri": "https://localhost:8080/"
        },
        "id": "Am7fitILqs_o",
        "outputId": "790005e3-db44-4d9b-b27c-9a393b2405e4"
      },
      "execution_count": 3,
      "outputs": [
        {
          "output_type": "stream",
          "name": "stdout",
          "text": [
            "23\n",
            "1 3 5 7 9 11 13 15 17 19 21 23 "
          ]
        }
      ]
    },
    {
      "cell_type": "markdown",
      "source": [
        "**Problem Description:** Multiples of 4\n",
        "Given an integer input N, print all multiples of 4 less than or equal to N.\n",
        "\n",
        "**Problem Constraints**\n",
        "1 <= N <= 10000\n",
        "\n",
        "\n",
        "**Input Format**\n",
        "Single line containing an integer N.\n",
        "\n",
        "\n",
        "**Output Format** Space separated integers representing multiples of 4 less than or equal to N.\n",
        "\n",
        "\n",
        "**Example Input**\n",
        "22\n",
        "\n",
        "\n",
        "**Example Output**\n",
        "4 8 12 16 20"
      ],
      "metadata": {
        "id": "kUZ60eXOrrJq"
      }
    },
    {
      "cell_type": "code",
      "source": [
        "n = int(input())\n",
        "i = 4\n",
        "while i <= n:\n",
        "    print(i, end = \" \")\n",
        "    i += 4"
      ],
      "metadata": {
        "colab": {
          "base_uri": "https://localhost:8080/"
        },
        "id": "1hP6F0murJ-8",
        "outputId": "4be2cfb9-5676-4d78-f27d-c2227e3be3e9"
      },
      "execution_count": 4,
      "outputs": [
        {
          "output_type": "stream",
          "name": "stdout",
          "text": [
            "24\n",
            "4 8 12 16 20 24 "
          ]
        }
      ]
    },
    {
      "cell_type": "markdown",
      "source": [
        "**Problem Description** print perfect squares\n",
        "\n",
        "Take an input of a number A from the user. Print all perfect squares less than or equal to A.\n",
        "Note - Perfect squares are integers whose square root is an integer. (For Example: 16 is perfect square as √16 = 4, or 42 = 16)\n",
        "\n",
        "\n",
        "**Problem Constraints**\n",
        "\n",
        "1 <= A <= 104\n",
        "\n",
        "\n",
        "\n",
        "**Input Format**\n",
        "\n",
        "A single line consisting of a integer A.\n",
        "\n",
        "\n",
        "\n",
        "**Output Format**\n",
        "\n",
        "Print perfect squares less than or equal to A in a single line in a space-separated manner.\n",
        "\n",
        "\n",
        "\n",
        "**Example Input**\n",
        "\n",
        "Input 1: 20\n",
        "\n",
        "Input 2: 100\n",
        "\n",
        "**Example Output**\n",
        "\n",
        "**Output 1:** 1 4 9 16\n",
        "\n",
        "**Output 2:** 1 4 9 16 25 36 49 64 81 100"
      ],
      "metadata": {
        "id": "iE0hAyoWsLBe"
      }
    },
    {
      "cell_type": "code",
      "source": [
        "n = int(input())\n",
        "i = 1\n",
        "while i*i <= n:\n",
        "    print(i*i, end = \" \")\n",
        "    i += 1"
      ],
      "metadata": {
        "colab": {
          "base_uri": "https://localhost:8080/"
        },
        "id": "yYTzQdPLr9wK",
        "outputId": "3d51d62d-c2d7-4709-e1d3-4b65408c9d81"
      },
      "execution_count": 6,
      "outputs": [
        {
          "output_type": "stream",
          "name": "stdout",
          "text": [
            "32\n",
            "1 4 9 16 25 "
          ]
        }
      ]
    },
    {
      "cell_type": "markdown",
      "source": [
        "**Problem Description:** Easy power\n",
        "\n",
        "You are given two integers A and B. You have to find the value of AB.\n",
        "\n",
        "NOTE: The value of AB will always be less than or equal to 109.\n",
        "\n",
        "\n",
        "**Problem Constraints**\n",
        "\n",
        "1 <= A, B <= 1000\n",
        "\n",
        "\n",
        "\n",
        "**Input Format**\n",
        "\n",
        "First line of the input contains a single integer A.\n",
        "\n",
        "Second line of the input contains a single integer B.\n",
        "\n",
        "\n",
        "\n",
        "**Output Format**\n",
        "\n",
        "Print a single integer in single line.\n",
        "\n",
        "\n",
        "\n",
        "**Example Input**\n",
        "\n",
        "Input 1:\n",
        "\n",
        " 2\n",
        "\n",
        " 3\n",
        "\n",
        "Input 2:\n",
        "\n",
        " 1\n",
        "\n",
        " 10\n",
        "\n",
        "\n",
        "**Example Output**\n",
        "\n",
        "Output 1: 8\n",
        "\n",
        "Output 2: 1"
      ],
      "metadata": {
        "id": "kOCIO49ms1bs"
      }
    },
    {
      "cell_type": "code",
      "source": [
        "a = int(input())\n",
        "b = int(input())\n",
        "print(a**b)"
      ],
      "metadata": {
        "colab": {
          "base_uri": "https://localhost:8080/"
        },
        "id": "ZGIoTLIvsj92",
        "outputId": "86bdc82f-8118-47bf-91ca-1b856cc2bbbd"
      },
      "execution_count": 7,
      "outputs": [
        {
          "output_type": "stream",
          "name": "stdout",
          "text": [
            "2\n",
            "3\n",
            "8\n"
          ]
        }
      ]
    },
    {
      "cell_type": "markdown",
      "source": [
        "**Problem Description:** Multiplication table\n",
        "\n",
        "Take a number A as input, print its multiplication table having the first 10 multiples.\n",
        "\n",
        "\n",
        "**Problem Constraints**\n",
        "1 <= A <= 1000\n",
        "\n",
        "\n",
        "\n",
        "**Input Format**\n",
        "First line contains a single integer A.\n",
        "\n",
        "\n",
        "\n",
        "**Output Format**\n",
        "Print 10 lines, ith line containing ith multiple.\n",
        "\n",
        "\n",
        "\n",
        "**Example Input**\n",
        "\n",
        "Input 1:\n",
        "\n",
        " 2\n",
        "\n",
        "**Example Output**\n",
        "\n",
        "Output 1:\n",
        "\n",
        " 2 * 1 = 2\n",
        "\n",
        " 2 * 2 = 4\n",
        "\n",
        " 2 * 3 = 6\n",
        "\n",
        " 2 * 4 = 8\n",
        "\n",
        " 2 * 5 = 10\n",
        "\n",
        " 2 * 6 = 12\n",
        "\n",
        " 2 * 7 = 14\n",
        "\n",
        " 2 * 8 = 16\n",
        "\n",
        " 2 * 9 = 18\n",
        "\n",
        " 2 * 10 = 20"
      ],
      "metadata": {
        "id": "qYdEWhrutPq7"
      }
    },
    {
      "cell_type": "code",
      "source": [
        "a = int(input())\n",
        "i = 1\n",
        "while i <= 10:\n",
        "    print(a, \"*\", i, \"=\", a*i)\n",
        "    i += 1"
      ],
      "metadata": {
        "colab": {
          "base_uri": "https://localhost:8080/"
        },
        "id": "L8yP4shjtFdd",
        "outputId": "255d384d-1bb3-458e-e5bf-f2e9a474bfaa"
      },
      "execution_count": 8,
      "outputs": [
        {
          "output_type": "stream",
          "name": "stdout",
          "text": [
            "5\n",
            "5 * 1 = 5\n",
            "5 * 2 = 10\n",
            "5 * 3 = 15\n",
            "5 * 4 = 20\n",
            "5 * 5 = 25\n",
            "5 * 6 = 30\n",
            "5 * 7 = 35\n",
            "5 * 8 = 40\n",
            "5 * 9 = 45\n",
            "5 * 10 = 50\n"
          ]
        }
      ]
    },
    {
      "cell_type": "markdown",
      "source": [
        "**Exponent using while loop**\n",
        "\n",
        "Complete the following code snippet in order to find the exponent, i.e. the number of times base should be multiplied by itself to get num.\n",
        "```\n",
        "num=16\n",
        "base=4\n",
        "cnt=0\n",
        "while(num>1):\n",
        "  ?????\n",
        "  cnt+=1\n",
        "print(cnt)\n",
        "```"
      ],
      "metadata": {
        "id": "m8DtStNWuFuy"
      }
    },
    {
      "cell_type": "code",
      "source": [
        "num=16\n",
        "base=4\n",
        "cnt=0\n",
        "while(num>1):\n",
        "  num=num/base\n",
        "  cnt+=1\n",
        "print(cnt)"
      ],
      "metadata": {
        "colab": {
          "base_uri": "https://localhost:8080/"
        },
        "id": "9P-L-ks_tjs8",
        "outputId": "25827b47-792f-4a6d-cd77-273b8abb4167"
      },
      "execution_count": 9,
      "outputs": [
        {
          "output_type": "stream",
          "name": "stdout",
          "text": [
            "2\n"
          ]
        }
      ]
    },
    {
      "cell_type": "markdown",
      "source": [
        "**Problem Description:** Count the digits\n",
        "\n",
        "Take T (number of test cases) as input.\n",
        "For each test case, take integer N as input and Print the count of digits of that number.\n",
        "\n",
        "Note: No of digits for number 0 is considered as 1.\n",
        "\n",
        "**Problem Constraints**\n",
        "\n",
        "1 <= T <= 100\n",
        "0 <= N <= 100000000\n",
        "\n",
        "**Input Format**\n",
        "\n",
        "The first line is the number T which denotes the total number of test cases.\n",
        "Next T lines contain an integer N for which you have to print the number of digits.\n",
        "\n",
        "**Output Format**\n",
        "\n",
        "For T different Numbers, Print the number of digits in separate lines.\n",
        "Example Input\n",
        "\n",
        "**Input 1:**\n",
        "2\n",
        "0\n",
        "1\n",
        "\n",
        "**Input 2:**\n",
        "\n",
        "2\n",
        "\n",
        "100\n",
        "\n",
        "10101\n",
        "\n",
        "**Example Output**\n",
        "\n",
        "Output 1:\n",
        "1\n",
        "\n",
        "1\n",
        "\n",
        "Output 2:\n",
        "\n",
        "3\n",
        "5"
      ],
      "metadata": {
        "id": "ARwhiXwvumBa"
      }
    },
    {
      "cell_type": "code",
      "source": [
        "L = int(input())\n",
        "for i in range(0,L):\n",
        "  li=int(input())\n",
        "  print(len(str(li)))"
      ],
      "metadata": {
        "colab": {
          "base_uri": "https://localhost:8080/"
        },
        "id": "Ek22Tw_2uS09",
        "outputId": "b41190b6-2b7d-4a03-bfed-b2f46d9c6d72"
      },
      "execution_count": 11,
      "outputs": [
        {
          "output_type": "stream",
          "name": "stdout",
          "text": [
            "3\n",
            "2\n",
            "1\n",
            "3\n",
            "1\n",
            "2134\n",
            "4\n"
          ]
        }
      ]
    },
    {
      "cell_type": "markdown",
      "source": [
        "**Problem Description:** Sum the digits\n",
        "You take a number of test cases, denoted by T as input.For each test case, you should take integers N as input. Your task is to calculate and print the sum of the digits of the given number N.\n",
        "\n",
        "**Problem Constraints**\n",
        "\n",
        "1 <= T <= 1000\n",
        "\n",
        "0 <= N <= 100000000\n",
        "\n",
        "**Input Format**\n",
        "\n",
        "The first line is T which means the total number of test cases.\n",
        "Each of the next T lines contain an integer N.\n",
        "\n",
        "**Output Format**\n",
        "\n",
        "T lines each containing one integer representing the sum of the digits of the input integer.\n",
        "\n",
        "**Example Input**\n",
        "\n",
        "Input 1:\n",
        "2\n",
        "\n",
        "5\n",
        "\n",
        "1001\n",
        "\n",
        "Input 2:\n",
        "2\n",
        "\n",
        "123\n",
        "\n",
        "1589\n",
        "\n",
        "**Example Output**\n",
        "\n",
        "Output 1:\n",
        "\n",
        "5\n",
        "\n",
        "2\n",
        "\n",
        "Output 2:\n",
        "\n",
        "6\n",
        "\n",
        "23"
      ],
      "metadata": {
        "id": "9Znbjl11va9B"
      }
    },
    {
      "cell_type": "code",
      "source": [
        "l = int(input())\n",
        "for i in range(0,l):\n",
        "  li=int(input())\n",
        "  sum=0\n",
        "  while(li>0):\n",
        "    sum=sum+li%10\n",
        "    li=li//10\n",
        "  print(sum)"
      ],
      "metadata": {
        "colab": {
          "base_uri": "https://localhost:8080/"
        },
        "id": "aUbBenwqvGQn",
        "outputId": "686f574b-4b89-4e9e-ae55-66ecf02cb093"
      },
      "execution_count": 12,
      "outputs": [
        {
          "output_type": "stream",
          "name": "stdout",
          "text": [
            "2\n",
            "234\n",
            "9\n",
            "1\n",
            "1\n"
          ]
        }
      ]
    }
  ]
}