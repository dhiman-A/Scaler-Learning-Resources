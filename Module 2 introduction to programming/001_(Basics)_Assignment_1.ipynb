{
  "nbformat": 4,
  "nbformat_minor": 0,
  "metadata": {
    "colab": {
      "provenance": [],
      "authorship_tag": "ABX9TyPLcuKAunD3e6dybGwbC57A",
      "include_colab_link": true
    },
    "kernelspec": {
      "name": "python3",
      "display_name": "Python 3"
    },
    "language_info": {
      "name": "python"
    }
  },
  "cells": [
    {
      "cell_type": "markdown",
      "metadata": {
        "id": "view-in-github",
        "colab_type": "text"
      },
      "source": [
        "<a href=\"https://colab.research.google.com/github/dhiman-A/Scaler-Learning-Resources/blob/main/Module%202%20introduction%20to%20programming/001_(Basics)_Assignment_1.ipynb\" target=\"_parent\"><img src=\"https://colab.research.google.com/assets/colab-badge.svg\" alt=\"Open In Colab\"/></a>"
      ]
    },
    {
      "cell_type": "markdown",
      "source": [
        "#### **Problem Description 1**\n",
        "\n",
        "Print the text\n",
        "\n",
        "Hello\n",
        "\n",
        "World!"
      ],
      "metadata": {
        "id": "z1U2zGeCupzU"
      }
    },
    {
      "cell_type": "code",
      "source": [
        "def main():\n",
        "    return (print(\"Hello\\nWorld!\"))\n",
        "if __name__ == '__main__':\n",
        "    main()"
      ],
      "metadata": {
        "colab": {
          "base_uri": "https://localhost:8080/"
        },
        "id": "17sLllHhu3zB",
        "outputId": "a850a67c-b3c6-4628-a24b-957fd5547cf1"
      },
      "execution_count": 1,
      "outputs": [
        {
          "output_type": "stream",
          "name": "stdout",
          "text": [
            "Hello\n",
            "World!\n"
          ]
        }
      ]
    },
    {
      "cell_type": "markdown",
      "source": [
        "#### **Problem Description 2**\n",
        "Print the following text in the output:(Note that there is a blank line between the sentences)\n",
        "\n",
        "Hello\n",
        "\n",
        "World !"
      ],
      "metadata": {
        "id": "QELKh2wivovx"
      }
    },
    {
      "cell_type": "code",
      "source": [
        "def main():\n",
        "    return (print(\"Hello\\n\\nWorld!\"))\n",
        "if __name__ == '__main__':\n",
        "    main()"
      ],
      "metadata": {
        "colab": {
          "base_uri": "https://localhost:8080/"
        },
        "id": "ZSwNec6mv9sV",
        "outputId": "40ba5a24-1dc2-4d90-9cab-f6e31126d538"
      },
      "execution_count": 3,
      "outputs": [
        {
          "output_type": "stream",
          "name": "stdout",
          "text": [
            "Hello\n",
            "\n",
            "World!\n"
          ]
        }
      ]
    },
    {
      "cell_type": "markdown",
      "source": [
        "#### **Problem Description 3**\n",
        "Print the following text:\n",
        "\n",
        "Hello 40\n",
        "\n",
        "50 World !"
      ],
      "metadata": {
        "id": "FQuHMFbJwbWZ"
      }
    },
    {
      "cell_type": "code",
      "source": [
        "def main():\n",
        "    return (print(\"Hello 40\\n50 World!\"))\n",
        "if __name__ == '__main__':\n",
        "    main()"
      ],
      "metadata": {
        "colab": {
          "base_uri": "https://localhost:8080/"
        },
        "id": "Uqb6B88swhbJ",
        "outputId": "8139b4ae-3d89-4aec-f7a2-3cba589da1d0"
      },
      "execution_count": 4,
      "outputs": [
        {
          "output_type": "stream",
          "name": "stdout",
          "text": [
            "Hello 40\n",
            "50 World!\n"
          ]
        }
      ]
    },
    {
      "cell_type": "markdown",
      "source": [
        "#### **Problem Description 4**\n",
        "Print \"Hello World !\" in the output."
      ],
      "metadata": {
        "id": "lUB9QSH-wo0y"
      }
    },
    {
      "cell_type": "code",
      "source": [
        "def main():\n",
        "  return (print(\"Hello World!\"))\n",
        "if __name__ == '__main__':\n",
        "  main()"
      ],
      "metadata": {
        "colab": {
          "base_uri": "https://localhost:8080/"
        },
        "id": "dw0E20J4w2Dr",
        "outputId": "eae3a015-adbf-4049-8f32-7ba0532e7ebd"
      },
      "execution_count": 5,
      "outputs": [
        {
          "output_type": "stream",
          "name": "stdout",
          "text": [
            "Hello World!\n"
          ]
        }
      ]
    },
    {
      "cell_type": "markdown",
      "source": [
        "#### **Problem Description 5**\n",
        "Print first 5 odd numbers i.e. 1, 3, 5, 7, 9 using concatenation operator"
      ],
      "metadata": {
        "id": "ZSkDDimKxUEr"
      }
    },
    {
      "cell_type": "code",
      "source": [
        "def main():\n",
        "  return print(str(1)+ \" \"+str(3)+ \" \"+str(5)+ \" \"+str(7)+ \" \"+str(9))\n",
        "if __name__ == '__main__':\n",
        "  main()"
      ],
      "metadata": {
        "colab": {
          "base_uri": "https://localhost:8080/"
        },
        "id": "U5vI8QV0xdK9",
        "outputId": "8449be4a-a3c7-40f9-93b4-a20e91be12f8"
      },
      "execution_count": 6,
      "outputs": [
        {
          "output_type": "stream",
          "name": "stdout",
          "text": [
            "1 3 5 7 9\n"
          ]
        }
      ]
    },
    {
      "cell_type": "markdown",
      "source": [
        "#### **Problem Description 6**\n",
        "Perform the following operations on 6 and 3 and print their respective outputs in different lines.\n",
        "\n",
        "1. Addition\n",
        "2. Subtraction\n",
        "3. Multiplication\n",
        "4. Division"
      ],
      "metadata": {
        "id": "FVUzRw5WyGpH"
      }
    },
    {
      "cell_type": "code",
      "source": [
        "def operation(num_1,num_2):\n",
        "  print(\"Addition: \",num_1+num_2)\n",
        "  print(\"Subtraction: \",num_1-num_2)\n",
        "  print(\"Multiplication: \",num_1*num_2)\n",
        "  print(\"Division: \",num_1/num_2)\n",
        "  return 0\n",
        "if __name__ == '__main__':\n",
        "  operation(6,3)\n",
        ""
      ],
      "metadata": {
        "colab": {
          "base_uri": "https://localhost:8080/"
        },
        "id": "HtuPnhu-yK57",
        "outputId": "eefef7a0-3d5a-4dee-b658-2260b25f3b81"
      },
      "execution_count": 8,
      "outputs": [
        {
          "output_type": "stream",
          "name": "stdout",
          "text": [
            "Addition:  9\n",
            "Subtraction:  3\n",
            "Multiplication:  18\n",
            "Division:  2.0\n"
          ]
        }
      ]
    },
    {
      "cell_type": "markdown",
      "source": [
        "#### **Problem Description 6**\n",
        "Print the following:\n",
        "\n",
        "2 Two 4 Four 6 Six"
      ],
      "metadata": {
        "id": "NmbirW2nzEEz"
      }
    },
    {
      "cell_type": "code",
      "source": [
        "def main():\n",
        "  return print(\"2 Two 4 Four 6 Six\")\n",
        "if __name__ == '__main__':\n",
        "  main()"
      ],
      "metadata": {
        "colab": {
          "base_uri": "https://localhost:8080/"
        },
        "id": "qlUiH8B3zVRY",
        "outputId": "d6ef555b-9c2a-4af2-a503-1d5891b122ba"
      },
      "execution_count": 9,
      "outputs": [
        {
          "output_type": "stream",
          "name": "stdout",
          "text": [
            "2 Two 4 Four 6 Six\n"
          ]
        }
      ]
    }
  ]
}