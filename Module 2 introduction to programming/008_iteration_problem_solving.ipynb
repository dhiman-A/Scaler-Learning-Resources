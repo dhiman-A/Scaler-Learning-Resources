{
  "nbformat": 4,
  "nbformat_minor": 0,
  "metadata": {
    "colab": {
      "provenance": [],
      "authorship_tag": "ABX9TyNKICBwtCxvfeYuBJI/9tF2",
      "include_colab_link": true
    },
    "kernelspec": {
      "name": "python3",
      "display_name": "Python 3"
    },
    "language_info": {
      "name": "python"
    }
  },
  "cells": [
    {
      "cell_type": "markdown",
      "metadata": {
        "id": "view-in-github",
        "colab_type": "text"
      },
      "source": [
        "<a href=\"https://colab.research.google.com/github/dhiman-A/Scaler-Learning-Resources/blob/main/Module%202%20introduction%20to%20programming/008_iteration_problem_solving.ipynb\" target=\"_parent\"><img src=\"https://colab.research.google.com/assets/colab-badge.svg\" alt=\"Open In Colab\"/></a>"
      ]
    },
    {
      "cell_type": "markdown",
      "source": [
        "**Problem Description:** Print square of given numbers\n",
        "\n",
        "Using a loop, Print the squares of the following numbers: 1, 3, 6, 10, 15, 21. Print each of the number in a new line.\n",
        "\n",
        "**Input Format** No input.\n",
        "\n",
        "**Output Format** Square of numbers as specified in the description."
      ],
      "metadata": {
        "id": "PPu00sPJl3fu"
      }
    },
    {
      "cell_type": "code",
      "execution_count": 1,
      "metadata": {
        "colab": {
          "base_uri": "https://localhost:8080/"
        },
        "id": "BlzcJ1c5ltDb",
        "outputId": "e6526a2f-017a-4240-defc-1bf64c92f841"
      },
      "outputs": [
        {
          "output_type": "stream",
          "name": "stdout",
          "text": [
            "1\n",
            "9\n",
            "36\n",
            "100\n",
            "225\n",
            "441\n"
          ]
        }
      ],
      "source": [
        "for i in [1,3,6,10,15,21]:\n",
        "  print(i*i)\n"
      ]
    },
    {
      "cell_type": "markdown",
      "source": [
        "**Problem Description:** Is it prime?\n",
        "\n",
        "Take an integer A as input, you have to tell whether it is a prime number or not.\n",
        "\n",
        "A prime number is a natural number greater than 1 which is divisible only by 1 and itself.\n",
        "\n",
        "\n",
        "**Problem Constraints**\n",
        "\n",
        "1 <= A <= 106\n",
        "\n",
        "\n",
        "\n",
        "**Input Format** First and only line of the input contains a single integer A.\n",
        "\n",
        "\n",
        "\n",
        "**Output Forma**t Print YES if A is a prime, else print NO.\n",
        "\n",
        "\n",
        "\n",
        "**Example Input**\n",
        "\n",
        "Input 1:3\n",
        "\n",
        "Input 2: 4\n",
        "\n",
        "\n",
        "**Example Output**\n",
        "\n",
        "**Output 1:** YES\n",
        "\n",
        "**Output 2:** NO"
      ],
      "metadata": {
        "id": "MDb24Chbmc0C"
      }
    },
    {
      "cell_type": "code",
      "source": [
        "a = int(input())\n",
        "for i in range(2,a):\n",
        "  if a%i==0:\n",
        "    print(\"NO\")\n",
        "    break\n",
        "else:\n",
        "    print(\"YES\")"
      ],
      "metadata": {
        "colab": {
          "base_uri": "https://localhost:8080/"
        },
        "id": "Zala2VOomPXu",
        "outputId": "1fd92164-2a35-4110-af19-3cfa05f716cb"
      },
      "execution_count": 5,
      "outputs": [
        {
          "output_type": "stream",
          "name": "stdout",
          "text": [
            "9\n",
            "NO\n"
          ]
        }
      ]
    },
    {
      "cell_type": "code",
      "source": [
        "# What is the output of the following program?\n",
        "\n",
        "i=2\n",
        "if i==2:\n",
        "    i+=1\n",
        "for j in range(i):\n",
        "    pass\n",
        "    break\n",
        "    i+=1\n",
        "print(i)"
      ],
      "metadata": {
        "colab": {
          "base_uri": "https://localhost:8080/"
        },
        "id": "F_1_NreWm6yT",
        "outputId": "101f3221-fa3d-4b99-ad5d-0bae5f7e2c47"
      },
      "execution_count": 6,
      "outputs": [
        {
          "output_type": "stream",
          "name": "stdout",
          "text": [
            "3\n"
          ]
        }
      ]
    },
    {
      "cell_type": "code",
      "source": [
        "# What would be the output of the following program?\n",
        "\n",
        "n=8\n",
        "while n>=0:\n",
        "   n -= 2\n",
        "   if n%2==0:\n",
        "       continue\n",
        "   print(n, end=\" \")\n",
        "else:\n",
        "   print(\"Exec\", end=\" \")"
      ],
      "metadata": {
        "colab": {
          "base_uri": "https://localhost:8080/"
        },
        "id": "WNrX_iV8nXvA",
        "outputId": "3a4e47fe-c6af-424c-e135-7cbee8ea0bcd"
      },
      "execution_count": 7,
      "outputs": [
        {
          "output_type": "stream",
          "name": "stdout",
          "text": [
            "Exec "
          ]
        }
      ]
    },
    {
      "cell_type": "markdown",
      "source": [
        "**Problem Description:** Integer in words\n",
        "\n",
        "Take an integer A as input. You have to print A in word form.\n",
        "\n",
        "Following are the words that should be replaced in place of a digit:\n",
        "\n",
        "For digit = 0, word = zero\n",
        "\n",
        "For digit = 1, word = one\n",
        "\n",
        "For digit = 2, word = two\n",
        "\n",
        "For digit = 3, word = three\n",
        "\n",
        "For digit = 4, word = four\n",
        "\n",
        "For digit = 5, word = five\n",
        "\n",
        "For digit = 6, word = six\n",
        "\n",
        "For digit = 7, word = seven\n",
        "\n",
        "For digit = 8, word = eight\n",
        "\n",
        "For digit = 9, word = nine\n",
        "\n",
        "For eg., If A = 2634, you should print two six three four.\n",
        "\n",
        "NOTE: Words should be seperated by a single space. Also, the output is case sensitive. There will be no zeros at the start of a number.\n",
        "\n",
        "\n",
        "\n",
        "**Problem Constraints**\n",
        "\n",
        "1 <= A <= 106\n",
        "\n",
        "\n",
        "\n",
        "**Input Format**\n",
        "\n",
        "Single line input consisting of a single integer A.\n",
        "\n",
        "\n",
        "\n",
        "**Output Format**\n",
        "\n",
        "Print the integer in word form in a single line.\n",
        "\n",
        "\n",
        "\n",
        "**Example Input**\n",
        "\n",
        "Input 1: 1234\n",
        "\n",
        "Input 2: 3\n",
        "\n",
        "\n",
        "**Example Output**\n",
        "\n",
        "Output 1: one two three four\n",
        "\n",
        "Output 2: three"
      ],
      "metadata": {
        "id": "2cG7psWfnvdp"
      }
    },
    {
      "cell_type": "code",
      "source": [
        "x = int(input())\n",
        "d = {0:'zero',1:'one',2:'two',3:'three',4:'four',5:'five',6:'six',7:'seven',8:'eight',9:'nine'}\n",
        "a = str(x)\n",
        "for i in a:\n",
        "  print(d[int(i)],end=\" \")"
      ],
      "metadata": {
        "colab": {
          "base_uri": "https://localhost:8080/"
        },
        "id": "aAQJfYsjoXmD",
        "outputId": "95c61c3a-8bb0-4062-8911-648fc5be774e"
      },
      "execution_count": 9,
      "outputs": [
        {
          "output_type": "stream",
          "name": "stdout",
          "text": [
            "345\n",
            "three four five "
          ]
        }
      ]
    },
    {
      "cell_type": "markdown",
      "source": [
        "**Problem Description:** Print the primes\n",
        "\n",
        "You are given an integer N you need to print all the Prime Numbers between 1 and N.\n",
        "\n",
        "Prime numbers are numbers that have only 2 factors: 1 and themselves. For example, the first 5 prime numbers are 2, 3, 5, 7, and 11.\n",
        "\n",
        "\n",
        "**Problem Constraints**\n",
        "\n",
        "1 <= N <= 300\n",
        "\n",
        "\n",
        "\n",
        "**Input Format**\n",
        "\n",
        "First and only line of input contains a single integer N.\n",
        "\n",
        "\n",
        "\n",
        "**Output Format**\n",
        "\n",
        "Print all the prime numbers between between 1 and N each in a new line.\n",
        "\n",
        "\n",
        "\n",
        "**Example Input**\n",
        "\n",
        "Input 1:\n",
        "\n",
        " 5\n",
        "\n",
        "Input 2:\n",
        "\n",
        " 10\n",
        "\n",
        "\n",
        "**Example Output**\n",
        "\n",
        "Output 1:\n",
        "\n",
        " 2\n",
        "\n",
        " 3\n",
        "\n",
        " 5\n",
        "Output 2:\n",
        "\n",
        " 2\n",
        "\n",
        " 3\n",
        "\n",
        " 5\n",
        "\n",
        " 7"
      ],
      "metadata": {
        "id": "kgGRnFT8ox1J"
      }
    },
    {
      "cell_type": "code",
      "source": [
        "n = int(input())\n",
        "for i in range(2,n+1):\n",
        "  for j in range(2,i):\n",
        "    if i%j==0:\n",
        "      break\n",
        "  else:\n",
        "    print(i)"
      ],
      "metadata": {
        "colab": {
          "base_uri": "https://localhost:8080/"
        },
        "id": "V0gzJeYFokQt",
        "outputId": "9026c7bd-fa8c-4c00-fa36-1665e9299e0e"
      },
      "execution_count": 10,
      "outputs": [
        {
          "output_type": "stream",
          "name": "stdout",
          "text": [
            "10\n",
            "2\n",
            "3\n",
            "5\n",
            "7\n"
          ]
        }
      ]
    },
    {
      "cell_type": "markdown",
      "source": [
        "**Problem Description:** Is it perfect?\n",
        "\n",
        "Given the Number of Test Cases as T,\n",
        "For each test case, take an integer N as input, you have to tell whether it is a perfect number or not.\n",
        "\n",
        "A perfect number is a positive integer that is equal to the sum of its proper positive divisors (excluding the number itself).\n",
        "A positive proper divisor divides a number without leaving any remainder.\n",
        "\n",
        "\n",
        "**Problem Constraints**\n",
        "\n",
        "1 <= T <= 10\n",
        "1 <= N <= 106\n",
        "\n",
        "\n",
        "**Input Format**\n",
        "\n",
        "The first line of the input contains a single integer T.\n",
        "Each of the next T lines contains a single integer N.\n",
        "\n",
        "\n",
        "**Output Format**\n",
        "\n",
        "For each testcase, print YES if the given integer is perfect, else print NO, in a separate line\n",
        "\n",
        "\n",
        "**Example Input**\n",
        "\n",
        "Input 1:\n",
        "\n",
        "2\n",
        "\n",
        "4\n",
        "\n",
        "6\n",
        "\n",
        "Input 2:\n",
        "\n",
        "1\n",
        "\n",
        "3\n",
        "\n",
        "\n",
        "**Example Output**\n",
        "\n",
        "Output 1:\n",
        "\n",
        "NO\n",
        "\n",
        "YES\n",
        "\n",
        "Output 2:\n",
        "\n",
        "NO"
      ],
      "metadata": {
        "id": "vsXP3JdhpQEG"
      }
    },
    {
      "cell_type": "code",
      "source": [
        "t = int(input())\n",
        "for i in range(t):\n",
        "  n = int(input())\n",
        "  s = 0\n",
        "  for j in range(1,n):\n",
        "    if n%j==0:\n",
        "      s+=j\n",
        "  if s==n:\n",
        "    print(\"YES\")\n",
        "  else:\n",
        "    print(\"NO\")"
      ],
      "metadata": {
        "colab": {
          "base_uri": "https://localhost:8080/"
        },
        "id": "CwoQI3UPphV6",
        "outputId": "40271020-1a72-46b2-df5c-ef5491690b09"
      },
      "execution_count": 11,
      "outputs": [
        {
          "output_type": "stream",
          "name": "stdout",
          "text": [
            "4\n",
            "3\n",
            "NO\n",
            "6\n",
            "YES\n",
            "1\n",
            "NO\n",
            "7\n",
            "NO\n"
          ]
        }
      ]
    },
    {
      "cell_type": "markdown",
      "source": [
        "**Problem Description:** Perfect numbers\n",
        "\n",
        "Take an integer A as input.\n",
        "\n",
        "You have to print all the perfect numbers which lie in the range [1, A] in ascending order.\n",
        "\n",
        "Perfect number is a positive integer which is equal to the sum of its proper positive divisors.\n",
        "\n",
        "A proper divisor of a natural number is the divisor that is strictly less than the number.\n",
        "\n",
        "\n",
        "**Problem Constraints**\n",
        "1 <= A <= 1000\n",
        "\n",
        "\n",
        "\n",
        "**Input Format**\n",
        "First and only line of the input contains a single positive integer A.\n",
        "\n",
        "\n",
        "\n",
        "**Output Format**\n",
        "Print the perfect numbers in ascending order in separate lines.\n",
        "\n",
        "\n",
        "\n",
        "**Example Input**\n",
        "\n",
        "Input 1:\n",
        "\n",
        " 8\n",
        "\n",
        "Input 2:\n",
        "\n",
        " 35\n",
        "\n",
        "\n",
        "**Example Output**\n",
        "\n",
        "Output 1:\n",
        "\n",
        " 6\n",
        "\n",
        "Output 2:\n",
        "\n",
        " 6\n",
        "\n",
        " 28"
      ],
      "metadata": {
        "id": "QtLu01y-qEWd"
      }
    },
    {
      "cell_type": "code",
      "source": [
        "a = int(input())\n",
        "for i in range(1,a+1):\n",
        "  s = 0\n",
        "  for j in range(1,i):\n",
        "    if i%j==0:\n",
        "      s+=j\n",
        "  if s==i:\n",
        "    print(i)"
      ],
      "metadata": {
        "colab": {
          "base_uri": "https://localhost:8080/"
        },
        "id": "L0pO3BoLpouo",
        "outputId": "3ec195a0-99d7-4e19-ed9a-1cf3a19f41c3"
      },
      "execution_count": 12,
      "outputs": [
        {
          "output_type": "stream",
          "name": "stdout",
          "text": [
            "34\n",
            "6\n",
            "28\n"
          ]
        }
      ]
    }
  ]
}