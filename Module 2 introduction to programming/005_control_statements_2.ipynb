{
  "nbformat": 4,
  "nbformat_minor": 0,
  "metadata": {
    "colab": {
      "provenance": [],
      "authorship_tag": "ABX9TyP9QEqtmPKMovqiHCGsynr3",
      "include_colab_link": true
    },
    "kernelspec": {
      "name": "python3",
      "display_name": "Python 3"
    },
    "language_info": {
      "name": "python"
    }
  },
  "cells": [
    {
      "cell_type": "markdown",
      "metadata": {
        "id": "view-in-github",
        "colab_type": "text"
      },
      "source": [
        "<a href=\"https://colab.research.google.com/github/dhiman-A/Scaler-Learning-Resources/blob/main/Module%202%20introduction%20to%20programming/005_control_statements_2.ipynb\" target=\"_parent\"><img src=\"https://colab.research.google.com/assets/colab-badge.svg\" alt=\"Open In Colab\"/></a>"
      ]
    },
    {
      "cell_type": "markdown",
      "source": [
        "**Problem Description:** Categorise the number\n",
        "\n",
        "Write a program to input a number(A) from user and print\n",
        "\n",
        "1 if it is positive,\n",
        "-1 if it is negative,\n",
        "0 if it's neither positive nor negative.\n",
        "\n",
        "**Problem Constraints**\n",
        "\n",
        "1 <= A <= 1000000\n",
        "\n",
        "\n",
        "\n",
        "**Input Format**\n",
        "One line containing an integer A.\n",
        "\n",
        "\n",
        "\n",
        "**Output Format**\n",
        "One line each 0/1/-1 as per the question.\n",
        "\n",
        "\n",
        "\n",
        "**Example Input**\n",
        "\n",
        "Input 1:\n",
        "\n",
        "50\n",
        "Input 2:\n",
        "\n",
        "-101\n",
        "Input 3:\n",
        "\n",
        "0\n",
        "\n",
        "\n",
        "**Example Output**\n",
        "\n",
        "Output 1:\n",
        "\n",
        "1\n",
        "Output 2:\n",
        "\n",
        "-1\n",
        "Output 3:\n",
        "\n",
        "0"
      ],
      "metadata": {
        "id": "bXfVdIcM8ZSl"
      }
    },
    {
      "cell_type": "code",
      "source": [
        "def categorise(num):\n",
        "    if num > 0:\n",
        "        return 1\n",
        "    elif num < 0:\n",
        "        return -1\n",
        "    else:\n",
        "        return 0\n",
        "a = int(input(\"Enter a number:\"))\n",
        "print(categorise(a))"
      ],
      "metadata": {
        "colab": {
          "base_uri": "https://localhost:8080/"
        },
        "id": "uasa7-4g8lS-",
        "outputId": "0e77e331-490d-4911-d5fe-23c01159be5f"
      },
      "execution_count": 2,
      "outputs": [
        {
          "output_type": "stream",
          "name": "stdout",
          "text": [
            "Enter a number:45\n",
            "1\n"
          ]
        }
      ]
    },
    {
      "cell_type": "markdown",
      "source": [
        "**Problem Description:** Your favourite programming language\n",
        "\n",
        "Write a program that asks the user to input their favorite programming language and output a specific string based on their answer. Based on the user inputs these are the outputs to be shown to the user.\n",
        "\n",
        "**Programming Language\tOutput**\n",
        "\n",
        "Python or Java:\tNice choice!\n",
        "\n",
        "Golang:\tYou're a cool person I see...\n",
        "\n",
        "JavaScript:\tOkay so you are our web developer!\n",
        "\n",
        "C++:\tToo old school...\n",
        "\n",
        "Anything else:\tI don't know that language.\n",
        "\n",
        "Note: The input will be case sensitive and exact as mentioned in the above list\n",
        "\n",
        "\n",
        "\n",
        "**Input Format**\n",
        "\n",
        "There is only 1 single line in the input, which is the string containing favorite programming language of the user.\n",
        "\n",
        "\n",
        "**Output Format**\n",
        "\n",
        "Output the relevant string from the table shown above.\n",
        "\n",
        "\n",
        "**Example Input**\n",
        "\n",
        "Input 1:-\n",
        "C++\n",
        "\n",
        "Input 2:-\n",
        "Java\n",
        "\n",
        "\n",
        "**Example Output**\n",
        "\n",
        "Output 1:-\n",
        "Too old school...\n",
        "\n",
        "Output 2:-\n",
        "Nice choice!"
      ],
      "metadata": {
        "id": "6WPwoWg-85fS"
      }
    },
    {
      "cell_type": "code",
      "source": [
        "def language(lang):\n",
        "  if lang == \"Python\" or lang == \"Java\":\n",
        "    return \"Nice choice!\"\n",
        "  elif lang == \"Golang\":\n",
        "    return \"You're a cool person I see...\"\n",
        "  elif lang == \"JavaScript\":\n",
        "    return \"Okay so you are our web developer!\"\n",
        "  elif lang == \"C++\":\n",
        "    return \"Too old school...\"\n",
        "  else:\n",
        "    return \"I don't know that language.\"\n",
        "lang = input(\"Enter your favorite programming language: \")\n",
        "lang = lang.capitalize()\n",
        "print(language(lang))"
      ],
      "metadata": {
        "colab": {
          "base_uri": "https://localhost:8080/"
        },
        "id": "48LyPqwt8v43",
        "outputId": "3068b740-5635-4974-b0d1-734d4a750b1f"
      },
      "execution_count": 5,
      "outputs": [
        {
          "output_type": "stream",
          "name": "stdout",
          "text": [
            "Enter your favorite programming language: python\n",
            "Nice choice!\n"
          ]
        }
      ]
    },
    {
      "cell_type": "markdown",
      "source": [
        "**Problem Description:** Fizz Buzz\n",
        "\n",
        "Write a program that takes in a number N as input and does the following:\n",
        "\n",
        "if N is a multiple of 3, print Fizz\n",
        "\n",
        "if N is a multiple of 5, print Buzz\n",
        "\n",
        "if N is a multiple of both 3 and 5, print FizzBuzz\n",
        "\n",
        "**Problem Constraints:**\n",
        "\n",
        "1 <= N <= 1000\n",
        "\n",
        "**Input Format**\n",
        "\n",
        "There is only 1 single line in the input, which is the integer N.\n",
        "\n",
        "**Output Format**\n",
        "\n",
        "Print Fizz / Buzz / FizzBuzz depending on the value N.\n",
        "\n",
        "**Example Input**\n",
        "\n",
        "Input 1:-\n",
        "9\n",
        "\n",
        "Input 2:-\n",
        "15\n",
        "\n",
        "\n",
        "**Example Output**\n",
        "\n",
        "Output 1:-\n",
        "Fizz\n",
        "\n",
        "Output 2:-\n",
        "FizzBuzz"
      ],
      "metadata": {
        "id": "ZUe_R847-ZxZ"
      }
    },
    {
      "cell_type": "code",
      "source": [
        "def fizzbuzz(num):\n",
        "  if num % 3 == 0 and num % 5 == 0:\n",
        "    return \"FizzBuzz\"\n",
        "  elif num % 3 == 0:\n",
        "    return \"Fizz\"\n",
        "  elif num % 5 == 0:\n",
        "    return \"Buzz\"\n",
        "num = int(input(\"Enter a number: \"))\n",
        "print(fizzbuzz(num))"
      ],
      "metadata": {
        "colab": {
          "base_uri": "https://localhost:8080/"
        },
        "id": "OEZfxGKn9yJS",
        "outputId": "a2f86b5b-aa9c-42c3-960e-f78836330d3c"
      },
      "execution_count": 6,
      "outputs": [
        {
          "output_type": "stream",
          "name": "stdout",
          "text": [
            "Enter a number: 5\n",
            "Buzz\n"
          ]
        }
      ]
    },
    {
      "cell_type": "markdown",
      "source": [
        "**Problem Description:** Nested if else coding\n",
        "\n",
        "Write a program that asks the user to input a number N. If N is between 10 and 20, your program should ask the user to enter another number M and then:-\n",
        "\n",
        "Print the sum of the two numbers.\n",
        "\n",
        "If the sum is greater than equal to 100, your program should also print \"That is a large sum!\" on a new line.\n",
        "\n",
        "If N is not between 10 and 20, your program should print -1.\n",
        "\n",
        "\n",
        "**Problem Constraints**\n",
        "\n",
        "1 <= N <= 100\n",
        "\n",
        "1 <= M <= 100\n",
        "\n",
        "\n",
        "**Input Format**\n",
        "The first line in the input is an integer N.\n",
        "If N is between 10 and 20 (both included), then the second line is there in the input containing another integer M.\n",
        "\n",
        "\n",
        "**Output Format**\n",
        "If N is not between 10 and 20, then output -1.\n",
        "If N is between 10 and 20, the first line of the output contains N + M.\n",
        "If N + M is greater than or equal to 100, the second line of the output contains That is a large sum!\n",
        "\n",
        "\n",
        "**Example Input**\n",
        "\n",
        "Input 1:\n",
        "5\n",
        "\n",
        "Input 2:\n",
        "\n",
        "10\n",
        "\n",
        "20\n",
        "\n",
        "Input 3:\n",
        "\n",
        "15\n",
        "\n",
        "90\n",
        "\n",
        "\n",
        "**Example Output**\n",
        "\n",
        "Output 1:\n",
        "-1\n",
        "\n",
        "Output 2:\n",
        "30\n",
        "\n",
        "Ouptut 3:\n",
        "\n",
        "105\n",
        "\n",
        "That is a large sum!"
      ],
      "metadata": {
        "id": "BxTtsvo3_NY8"
      }
    },
    {
      "cell_type": "code",
      "source": [
        "def nested(num):\n",
        "  if num >= 10 and num <= 20:\n",
        "    m = int(input(\"Enter another number: \"))\n",
        "    print(num + m)\n",
        "    if num + m >= 100:\n",
        "      print(\"That is a large sum!\")\n",
        "  else:\n",
        "    print(-1)\n",
        "num = int(input(\"Enter a number: \"))\n",
        "nested(num)"
      ],
      "metadata": {
        "colab": {
          "base_uri": "https://localhost:8080/"
        },
        "id": "xPkuySI3-4Ro",
        "outputId": "7f7d4f67-a2e3-4412-c144-9af6e1d99b5b"
      },
      "execution_count": 7,
      "outputs": [
        {
          "output_type": "stream",
          "name": "stdout",
          "text": [
            "Enter a number: 34\n",
            "-1\n"
          ]
        }
      ]
    },
    {
      "cell_type": "markdown",
      "source": [
        "**Problem Description:** Leap year\n",
        "Given an integer A representing an year, Return 1 if it is a leap year else return 0.\n",
        "\n",
        "A year is leap year if the following conditions are satisfied:\n",
        "Year is multiple of 400.\n",
        "Else the year is multiple of 4 and not multiple of 100.\n",
        "\n",
        "\n",
        "**Problem Constraints**\n",
        "1 <= A <= 109\n",
        "\n",
        "\n",
        "\n",
        "**Input Format**\n",
        "First and only argument is an integer A\n",
        "\n",
        "\n",
        "\n",
        "**Output Format**\n",
        "Return 1 if it is a leap year else return 0\n",
        "\n",
        "\n",
        "\n",
        "**Example Input**\n",
        "\n",
        "Input 1\n",
        "\n",
        " A = 2020\n",
        "\n",
        "Input 2:\n",
        "\n",
        " A = 1999\n",
        "\n",
        "\n",
        "**Example Output**\n",
        "\n",
        "Output 1\n",
        "\n",
        " 1\n",
        "\n",
        "Output 2:\n",
        "\n",
        " 0"
      ],
      "metadata": {
        "id": "bR2357pOAIwx"
      }
    },
    {
      "cell_type": "code",
      "source": [
        "def leap(year):\n",
        "  if year % 400 == 0 or (year % 4 == 0 and year % 100 != 0):\n",
        "    return 1\n",
        "  else:\n",
        "    return 0\n",
        "year = int(input(\"Enter an year: \"))\n",
        "print(leap(year))"
      ],
      "metadata": {
        "colab": {
          "base_uri": "https://localhost:8080/"
        },
        "id": "J2uMGclA_6m1",
        "outputId": "95a8449b-1e04-4603-abfa-4a7f7fa5249f"
      },
      "execution_count": 9,
      "outputs": [
        {
          "output_type": "stream",
          "name": "stdout",
          "text": [
            "Enter an year: 2020\n",
            "1\n"
          ]
        }
      ]
    },
    {
      "cell_type": "markdown",
      "source": [
        "Complete the code snippet in order to classify the triangle into equilateral, isosceles, and scalene on the basis of its sides a, b and c.\n",
        "\n",
        "\n",
        "```\n",
        "if (a==b __1__ a==c) and b==c:\n",
        "\n",
        "  print(\"equilateral\")\n",
        "\n",
        "elif a==b __2__ b==c or c==a:\n",
        "\n",
        "  print(\"isosceles\")\n",
        "\n",
        "else:\n",
        "\n",
        "  print('scalene')\n",
        "```"
      ],
      "metadata": {
        "id": "hztzWF4sDmn8"
      }
    },
    {
      "cell_type": "code",
      "source": [
        "def triangle(a, b, c):\n",
        "  if (a==b and a==c) and b==c:\n",
        "    print(\"equilateral\")\n",
        "  elif a==b or b==c or c==a:\n",
        "    print(\"isosceles\")\n",
        "  else:\n",
        "    print(\"scalene\")\n",
        "a = int(input(\"Enter side a: \"))\n",
        "b = int(input(\"Enter side b: \"))\n",
        "c = int(input(\"Enter side c: \"))\n",
        "triangle(a, b, c)"
      ],
      "metadata": {
        "colab": {
          "base_uri": "https://localhost:8080/"
        },
        "id": "XcPiMMBRB1Rg",
        "outputId": "b38cf07d-1751-438f-e5c1-ebc904ea37dc"
      },
      "execution_count": 10,
      "outputs": [
        {
          "output_type": "stream",
          "name": "stdout",
          "text": [
            "Enter side a: 4\n",
            "Enter side b: 4\n",
            "Enter side c: 5\n",
            "isosceles\n"
          ]
        }
      ]
    },
    {
      "cell_type": "markdown",
      "source": [
        "**Problem Description:** Music certification\n",
        "\n",
        "A programmer for a music company is developing a program to determine the highest level of certification for an album.\n",
        "The program needs to follow this table of thresholds for each certification level:\n",
        "\n",
        "\n",
        "**Minimum albums sold Certification**\n",
        "\n",
        "500000 (5*105) gold\n",
        "1000000 (106) platinum\n",
        "10000000 (107) diamond\n",
        "\n",
        "\n",
        "Given the albums sold(N) as input, print the certification for the album.\n",
        "\n",
        "\n",
        "**Problem Constraints**\n",
        "\n",
        "1 <= N <= 109\n",
        "\n",
        "\n",
        "**Input Format**\n",
        "\n",
        "There is only 1 single line in the input, which is the integer denoting the no. of albums sold.\n",
        "\n",
        "\n",
        "**Output Format**\n",
        "\n",
        "Output the certification either diamond, platinum or gold.\n",
        "If no certification, print None.\n",
        "\n",
        "\n",
        "**Example Input**\n",
        "\n",
        "Input 1:-\n",
        "50\n",
        "\n",
        "Input 2:-\n",
        "500000\n",
        "\n",
        "\n",
        "**Example Output**\n",
        "\n",
        "Output 1:-\n",
        "None\n",
        "\n",
        "Output 2:-\n",
        "gold"
      ],
      "metadata": {
        "id": "PgcsYditEzAu"
      }
    },
    {
      "cell_type": "code",
      "source": [
        "def music(num):\n",
        "  if num >= 500000 and num < 1000000:\n",
        "    print(\"gold\")\n",
        "  elif num >= 10e6 and num < 10e7:\n",
        "    print(\"platinum\")\n",
        "  elif num >= 10000000:\n",
        "    print(\"diamond\")\n",
        "  else:\n",
        "    print(\"None\")\n",
        "num = int(input(\"Enter the number of albums sold: \"))\n",
        "music(num)"
      ],
      "metadata": {
        "colab": {
          "base_uri": "https://localhost:8080/"
        },
        "id": "TslUiUo0Eewa",
        "outputId": "422c6e98-7793-4e42-ae31-abab4fa8f282"
      },
      "execution_count": 11,
      "outputs": [
        {
          "output_type": "stream",
          "name": "stdout",
          "text": [
            "Enter the number of albums sold: 345678209864\n",
            "diamond\n"
          ]
        }
      ]
    },
    {
      "cell_type": "markdown",
      "source": [
        "**Problem Description:** Pac-man\n",
        "\n",
        "In this exercise, you need to implement some rules from Pac-Man, the classic 1980s-era arcade-game.\n",
        "\n",
        "You have to answer whether the Pac-Man loses or not.\n",
        "\n",
        "Your are given the following integer inputs (0 / 1) one in each line:\n",
        "\n",
        "1. Does the Pac-Man have a power pellect active?\n",
        "\n",
        "2. Is the Pac-Man touching a ghost?\n",
        "\n",
        "The Pac-Man loses if it is touching a ghost and does not have a power pellet active.\n",
        "\n",
        "\n",
        "**Input Format**\n",
        "\n",
        "There are 2 lines in the input.\n",
        "\n",
        "The first line indicates if the Pac-Man has a power pellet active (1 for yes, 0 for no)\n",
        "\n",
        "The second line indicates if the Pac-Man is touching a ghost (1 for yes, 0 for no)\n",
        "\n",
        "\n",
        "**Output Format**\n",
        "\n",
        "Print 1 if the Pac-Man loses else 0.\n",
        "\n",
        "\n",
        "**Example Input**\n",
        "\n",
        "Input 1:-\n",
        "0\n",
        "\n",
        "1\n",
        "\n",
        "Input 2:-\n",
        "\n",
        "0\n",
        "\n",
        "0\n",
        "\n",
        "\n",
        "**Example Output**\n",
        "\n",
        "Output 1:-\n",
        "1\n",
        "\n",
        "Output 2:-\n",
        "0"
      ],
      "metadata": {
        "id": "XoT11ifXGsz9"
      }
    },
    {
      "cell_type": "code",
      "source": [
        "def pac(pel, ghost):\n",
        "  if pel == 0 and ghost == 1:\n",
        "    print(1)\n",
        "  else:\n",
        "    print(0)\n",
        "pel = int(input(\"Enter 1 if  the Pac-Man has a power pellect active and 0 otherwise: \"))\n",
        "ghost = int(input(\"Enter 1 if the Pac-Man is touching a ghost and 0 otherwise: \"))\n",
        "pac(pel, ghost)"
      ],
      "metadata": {
        "colab": {
          "base_uri": "https://localhost:8080/"
        },
        "id": "tNAN_TTNGD-o",
        "outputId": "7a05fcbe-2cc7-4069-8515-7a873c17701a"
      },
      "execution_count": 12,
      "outputs": [
        {
          "output_type": "stream",
          "name": "stdout",
          "text": [
            "Enter 1 if  the Pac-Man has a power pellect active and 0 otherwise: 0\n",
            "Enter 1 if the Pac-Man is touching a ghost and 0 otherwise: 1\n",
            "1\n"
          ]
        }
      ]
    },
    {
      "cell_type": "markdown",
      "source": [
        "**Problem Description:** Coding rating\n",
        "\n",
        "Write a program to input from user an integer(n) representing the rating of a person on a platform.\n",
        "\n",
        "You have to print the category of that person.\n",
        "\n",
        "If the rating is greater than or equal to 2100 then that person is \"grand master\".\n",
        "If the rating is greater than or equal to 1900 then that person is \"candidate master\".\n",
        "If the rating is greater than or equal to 1600 then that person is \"expert\".\n",
        "If the rating is greater than or equal to 1400 then that person is \"pupil\".\n",
        "If the rating is smaller than 1400 then that person is \"newbie\".\n",
        "NOTE: Print all the chars of the category of the person in lowercase if rating is odd otherwise print in UPPERCASE\n",
        "\n",
        "\n",
        "**Problem Constraints**\n",
        "\n",
        "1000 <= n <= 2500\n",
        "\n",
        "\n",
        "\n",
        "**Input Format**\n",
        "\n",
        "One line containing an integern.\n",
        "\n",
        "\n",
        "\n",
        "**Output Format**\n",
        "\n",
        "A string representing the category of the person.\n",
        "\n",
        "\n",
        "\n",
        "**Example Input**\n",
        "\n",
        "Input 1:\n",
        "\n",
        "1659\n",
        "\n",
        "Input 2:\n",
        "\n",
        "2100\n",
        "\n",
        "\n",
        "**Example Output**\n",
        "\n",
        "Output 1:\n",
        "\n",
        "expert\n",
        "\n",
        "Output 2:\n",
        "\n",
        "GRAND MASTER"
      ],
      "metadata": {
        "id": "P49N2dwdIBDF"
      }
    },
    {
      "cell_type": "code",
      "source": [
        "def coding(num):\n",
        "  if num >= 2100:\n",
        "    if num% 2 == 0:\n",
        "      print(\"GRAND MASTER\")\n",
        "    else:\n",
        "      print(\"grand master\")\n",
        "  elif num >= 1900 and num < 2100:\n",
        "    if num% 2 == 0:\n",
        "      print(\"CANDIDATE MASTER\")\n",
        "    else:\n",
        "      print(\"candidate master\")\n",
        "  elif num >= 1600 and num < 1900:\n",
        "    if num% 2 == 0:\n",
        "      print(\"EXPERT\")\n",
        "    else:\n",
        "      print(\"expert\")\n",
        "  elif num >= 1400 and num < 1600:\n",
        "    if num% 2 == 0:\n",
        "      print(\"PUPIL\")\n",
        "    else:\n",
        "      print(\"pupil\")\n",
        "  else:\n",
        "    if num% 2 == 0:\n",
        "      print(\"NEWBIE\")\n",
        "    else:\n",
        "      print(\"newbie\")\n",
        "num = int(input(\"Enter an integer: \"))\n",
        "coding(num)"
      ],
      "metadata": {
        "colab": {
          "base_uri": "https://localhost:8080/"
        },
        "id": "B5nTaOCEHVSi",
        "outputId": "7d848f7a-6ae7-40b1-be51-722e3daed6f9"
      },
      "execution_count": 13,
      "outputs": [
        {
          "output_type": "stream",
          "name": "stdout",
          "text": [
            "Enter an integer: 1398\n",
            "NEWBIE\n"
          ]
        }
      ]
    },
    {
      "cell_type": "markdown",
      "source": [
        "**Problem Description:** Which month?\n",
        "\n",
        "Write a program to input an integer(A) from user and print the Ath month of the year.\n",
        "\n",
        "Months list: {January, February, March, April, May, June, July, August, September, October, November, December}\n",
        "\n",
        "\n",
        "**Problem Constraints**\n",
        "\n",
        "1 <= A <= 12\n",
        "\n",
        "\n",
        "\n",
        "**Input Format**\n",
        "\n",
        "One line containing an integer integer A.\n",
        "\n",
        "\n",
        "\n",
        "**Output Format**\n",
        "\n",
        "One line containing the Ath month of the year.\n",
        "\n",
        "\n",
        "\n",
        "**Example Input**\n",
        "\n",
        "Input 1:\n",
        "\n",
        "1\n",
        "\n",
        "Input 2:\n",
        "\n",
        "6\n",
        "\n",
        "\n",
        "**Example Output**\n",
        "\n",
        "Output 1:\n",
        "\n",
        "January\n",
        "\n",
        "Output 1:\n",
        "\n",
        "June"
      ],
      "metadata": {
        "id": "EK5VWs5IJLN-"
      }
    },
    {
      "cell_type": "code",
      "source": [
        "def month(num):\n",
        "  dict_month = {1:'January',\n",
        "                2:'February',\n",
        "                3:'March',\n",
        "                4:'April',\n",
        "                5:'May',\n",
        "                6:'June',\n",
        "                7:'July',\n",
        "                8:'August',\n",
        "                9:'September',\n",
        "                10:'October',\n",
        "                11:'November',\n",
        "                12:'December'}\n",
        "  print(dict_month[num])\n",
        "num = int(input(\"Enter an integer: \"))\n",
        "month(num)"
      ],
      "metadata": {
        "colab": {
          "base_uri": "https://localhost:8080/"
        },
        "id": "Y1TwN_5AJpaR",
        "outputId": "d750e98b-13ee-4ead-9c13-7c25748f06cf"
      },
      "execution_count": 15,
      "outputs": [
        {
          "output_type": "stream",
          "name": "stdout",
          "text": [
            "Enter an integer: 5\n",
            "May\n"
          ]
        }
      ]
    },
    {
      "cell_type": "markdown",
      "source": [
        "**Problem Description:** Days in Month\n",
        "\n",
        "You are given an integer A.\n",
        "\n",
        "You have to tell how many days are there in the month denoted by A in a non-leap year.\n",
        "\n",
        "Months are denoted as follows:\n",
        "\n",
        "January : 1\n",
        "February : 2\n",
        "March : 3\n",
        "April : 4\n",
        "May : 5\n",
        "June : 6\n",
        "July : 7\n",
        "August : 8\n",
        "September : 9\n",
        "October : 10\n",
        "November : 11\n",
        "December : 12\n",
        "\n",
        "\n",
        "**Problem Constraints**\n",
        "\n",
        "1 <= A <= 12\n",
        "\n",
        "\n",
        "\n",
        "**Input Format**\n",
        "\n",
        "The input contains a single integer A.\n",
        "\n",
        "\n",
        "\n",
        "**Output Format**\n",
        "\n",
        "Print a single integer denoting the number of days on a single line.\n",
        "\n",
        "\n",
        "\n",
        "**Example Input**\n",
        "\n",
        "Input 1:\n",
        "\n",
        " 1\n",
        "\n",
        "Input 2:\n",
        "\n",
        " 11\n",
        "\n",
        "\n",
        "**Example Output**\n",
        "\n",
        "Output 1:\n",
        "\n",
        " 31\n",
        "\n",
        "Output 2:\n",
        "\n",
        " 30"
      ],
      "metadata": {
        "id": "U93Gq2AAK-E2"
      }
    },
    {
      "cell_type": "code",
      "source": [
        "def days(num):\n",
        "  month_dict = {1:'January',\n",
        "                2:'February',\n",
        "                3:'March',\n",
        "                4:'April',\n",
        "                5:'May',\n",
        "                6:'June',\n",
        "                7:'July',\n",
        "                8:'August',\n",
        "                9:'September',\n",
        "                10:'October',\n",
        "                11:'November',\n",
        "                12:'December'}\n",
        "  if month_dict[num] in ['January', 'March', 'May', 'July', 'August', 'October', 'December']:\n",
        "    print(31)\n",
        "  elif month_dict[num] in ['April', 'June', 'September', 'November']:\n",
        "    print(30)\n",
        "  else:\n",
        "    print(28)\n",
        "num = int(input(\"Enter an integer: \"))\n",
        "days(num)"
      ],
      "metadata": {
        "colab": {
          "base_uri": "https://localhost:8080/"
        },
        "id": "2N66cFdNKcCf",
        "outputId": "3c8ae481-9184-4997-9945-3508b4eaa763"
      },
      "execution_count": 16,
      "outputs": [
        {
          "output_type": "stream",
          "name": "stdout",
          "text": [
            "Enter an integer: 2\n",
            "28\n"
          ]
        }
      ]
    },
    {
      "cell_type": "markdown",
      "source": [
        "**Problem Description**\n",
        "\n",
        "Write a program to input three numbers(A, B & C) from user and print the maximum element among A, B & C in each line.\n",
        "\n",
        "**Problem Constraints**\n",
        "\n",
        "1 <= A <= 1000000\n",
        "\n",
        "1 <= B <= 1000000\n",
        "\n",
        "1 <= C <= 1000000\n",
        "\n",
        "\n",
        "\n",
        "**Input Format**\n",
        "\n",
        "First line is a single integer A.\n",
        "Second line is a single integer B.\n",
        "Third line is a single integer C.\n",
        "\n",
        "\n",
        "\n",
        "**Output Format**\n",
        "\n",
        "One line containing an integer as per the question.\n",
        "\n",
        "\n",
        "\n",
        "**Example Input**\n",
        "\n",
        "Input 1:\n",
        "\n",
        "5\n",
        "6\n",
        "7\n",
        "\n",
        "**Input 2:**\n",
        "\n",
        "1000\n",
        "10000\n",
        "100000\n",
        "\n",
        "\n",
        "**Example Output**\n",
        "\n",
        "Output 1:\n",
        "\n",
        "7\n",
        "\n",
        "Output 2:\n",
        "\n",
        "100000"
      ],
      "metadata": {
        "id": "VPeiFNbbMYrP"
      }
    },
    {
      "cell_type": "code",
      "source": [
        "def maximum_num(a, b, c):\n",
        "  if a > b and a > c:\n",
        "    print(a)\n",
        "  elif b > a and b > c:\n",
        "    print(b)\n",
        "  else:\n",
        "    print(c)\n",
        "a = int(input(\"Enter an integer: \"))\n",
        "b = int(input(\"Enter an integer: \"))\n",
        "c = int(input(\"Enter an integer: \"))\n",
        "maximum_num(a, b, c)"
      ],
      "metadata": {
        "colab": {
          "base_uri": "https://localhost:8080/"
        },
        "id": "931uefPhL_BC",
        "outputId": "544e2d3b-f149-4260-ca78-8a8c5e8d2317"
      },
      "execution_count": 17,
      "outputs": [
        {
          "output_type": "stream",
          "name": "stdout",
          "text": [
            "Enter an integer: 2\n",
            "Enter an integer: 6\n",
            "Enter an integer: 1\n",
            "6\n"
          ]
        }
      ]
    },
    {
      "cell_type": "markdown",
      "source": [
        "**Problem Description:** Minimum of 3 statements\n",
        "\n",
        "Write a program to input three numbers(A, B & C) from user and print the minimum element among A, B & C.\n",
        "\n",
        "**Problem Constraints**\n",
        "\n",
        "1 <= A <= 1000000\n",
        "\n",
        "1 <= B <= 1000000\n",
        "\n",
        "1 <= C <= 1000000\n",
        "\n",
        "\n",
        "\n",
        "**Input Format**\n",
        "\n",
        "First line is a single integer A.\n",
        "Second line is a single integer B.\n",
        "Third line is a single integer C.\n",
        "\n",
        "\n",
        "\n",
        "**Output Format**\n",
        "\n",
        "One line containing an integer as per the question.\n",
        "\n",
        "\n",
        "\n",
        "**Example Input**\n",
        "Input 1:\n",
        "\n",
        "5\n",
        "6\n",
        "7\n",
        "Input 2:\n",
        "\n",
        "1000\n",
        "10000\n",
        "100000\n",
        "\n",
        "\n",
        "**Example Output**\n",
        "\n",
        "Output 1:-\n",
        "5\n",
        "\n",
        "Output 2:-\n",
        "1000"
      ],
      "metadata": {
        "id": "BX8H6pKqM38d"
      }
    },
    {
      "cell_type": "code",
      "source": [
        "def minimum_num(a, b, c):\n",
        "  if a < b and a < c:\n",
        "    print(a)\n",
        "  elif b < a and b < c:\n",
        "    print(b)\n",
        "  else:\n",
        "    print(c)\n",
        "a = int(input(\"Enter an integer: \"))\n",
        "b = int(input(\"Enter an integer: \"))\n",
        "c = int(input(\"Enter an integer: \"))\n",
        "minimum_num(a, b, c)"
      ],
      "metadata": {
        "colab": {
          "base_uri": "https://localhost:8080/"
        },
        "id": "fZGBmwGEMto3",
        "outputId": "3b81d07f-7a7c-404d-84de-6b6081a90c1f"
      },
      "execution_count": 18,
      "outputs": [
        {
          "output_type": "stream",
          "name": "stdout",
          "text": [
            "Enter an integer: 4\n",
            "Enter an integer: 6\n",
            "Enter an integer: 1\n",
            "1\n"
          ]
        }
      ]
    },
    {
      "cell_type": "code",
      "source": [],
      "metadata": {
        "id": "mtXvCMMSNMoQ"
      },
      "execution_count": null,
      "outputs": []
    }
  ]
}