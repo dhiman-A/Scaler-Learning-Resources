{
  "nbformat": 4,
  "nbformat_minor": 0,
  "metadata": {
    "colab": {
      "provenance": [],
      "authorship_tag": "ABX9TyOJ46+j0+Cj/2y7cdY8Iw/h",
      "include_colab_link": true
    },
    "kernelspec": {
      "name": "python3",
      "display_name": "Python 3"
    },
    "language_info": {
      "name": "python"
    }
  },
  "cells": [
    {
      "cell_type": "markdown",
      "metadata": {
        "id": "view-in-github",
        "colab_type": "text"
      },
      "source": [
        "<a href=\"https://colab.research.google.com/github/dhiman-A/Scaler-Learning-Resources/blob/main/Module%202%20introduction%20to%20programming/004_control_statements_1.ipynb\" target=\"_parent\"><img src=\"https://colab.research.google.com/assets/colab-badge.svg\" alt=\"Open In Colab\"/></a>"
      ]
    },
    {
      "cell_type": "markdown",
      "source": [
        "**Problem Description:**Class Performance 2![flow-CHART.png](data:image/png;base64,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)\n",
        "\n",
        "You have been given a dataset for marks of 2 subjects, scored by students of classes ClassA and ClassB. You now want to compare the performances of class A and class B by finding out the average performance of the classes. Write a program to find if class A performed better. Print True is Class A is strictly better else return False.\n",
        "\n",
        "\n",
        "**Input Format**\n",
        "\n",
        "There are 4 lines in the input.\n",
        "The first and second lines are marks of subjects for Class A.\n",
        "The third and fourth lines are marks of subjects for Class B.\n",
        "\n",
        "\n",
        "**Output Format**\n",
        "\n",
        "Print True if class A is strictly better else False.\n",
        "\n",
        "\n",
        "**Example Input**\n",
        "\n",
        "Input 1:-\n",
        "80\n",
        "27\n",
        "54\n",
        "61\n",
        "Input 2:-\n",
        "54\n",
        "61\n",
        "80\n",
        "27\n",
        "\n",
        "\n",
        "**Example Output**\n",
        "\n",
        "Output 1:-\n",
        "False\n",
        "Output 2:-\n",
        "True"
      ],
      "metadata": {
        "id": "HoPDAx8IQpRZ"
      }
    },
    {
      "cell_type": "code",
      "execution_count": 2,
      "metadata": {
        "colab": {
          "base_uri": "https://localhost:8080/"
        },
        "id": "Eeqz3tbTQSNA",
        "outputId": "dce2bce5-2119-4ab3-cd07-81c7446ad454"
      },
      "outputs": [
        {
          "output_type": "stream",
          "name": "stdout",
          "text": [
            "Enter marks for subject 1 fo class A: 21\n",
            "Enter marks for subject 2 fo class A: 32\n",
            "Enter marks for subject 1 fo class B: 45\n",
            "Enter marks for subject 2 fo class B: 37\n",
            "False\n"
          ]
        }
      ],
      "source": [
        "def class_performance(a, b):\n",
        "  try:\n",
        "    if a > b:\n",
        "      return True\n",
        "    else:\n",
        "      return False\n",
        "  except:\n",
        "    print(\"Enter valid input\")\n",
        "a = int(input(\"Enter marks for subject 1 fo class A: \"))\n",
        "b = int(input(\"Enter marks for subject 2 fo class A: \"))\n",
        "av1 = (a+b)/2\n",
        "c = int(input(\"Enter marks for subject 1 fo class B: \"))\n",
        "d = int(input(\"Enter marks for subject 2 fo class B: \"))\n",
        "av2 = (c+d)/2\n",
        "\n",
        "print(class_performance(av1, av2))"
      ]
    },
    {
      "cell_type": "markdown",
      "source": [
        "**Problem Description:** Max of two\n",
        "\n",
        "Write a program to input two numbers(A & B) from user and print the maximum element among A & B.\n",
        "\n",
        "\n",
        "**Problem Constraints**\n",
        "\n",
        "1 <= A <= 1000000\n",
        "\n",
        "1 <= B <= 1000000\n",
        "\n",
        "\n",
        "\n",
        "**Input Format**\n",
        "\n",
        "First line is a single integer A.\n",
        "Second line is a single integer B.\n",
        "\n",
        "\n",
        "\n",
        "**Output Format**\n",
        "\n",
        "One line containing the greater integer A or B."
      ],
      "metadata": {
        "id": "dNWsLpqQSe3c"
      }
    },
    {
      "cell_type": "code",
      "source": [
        "try:\n",
        "  a = int(input(\"Enter first number: \"))\n",
        "  b = int(input(\"Enter second number: \"))\n",
        "  print(max(a,b))\n",
        "except:\n",
        "  print(\"Enter valid input\")"
      ],
      "metadata": {
        "colab": {
          "base_uri": "https://localhost:8080/"
        },
        "id": "3bEHPW9WSrdZ",
        "outputId": "f1921fa1-389c-4b8d-88d4-d96b9c02a5e4"
      },
      "execution_count": 3,
      "outputs": [
        {
          "output_type": "stream",
          "name": "stdout",
          "text": [
            "Enter first number: 32\n",
            "Enter second number: 21\n",
            "32\n"
          ]
        }
      ]
    },
    {
      "cell_type": "markdown",
      "source": [
        "**Problem Description:**  Roller Coaster Ride\n",
        "\n",
        "Write a program that takes the age of the user as input and tells them if they're old enough to ride a roller coaster. The minimum age to ride the roller coaster in this question is 13.\n",
        "\n",
        "\n",
        "**Input Format**\n",
        "\n",
        "There is only 1 single line in the input, which is the age of the user.\n",
        "\n",
        "\n",
        "**Output Format**\n",
        "\n",
        "Print the following if user can ride the roller coaster:\n",
        "You can ride the roller coaster!\n",
        "Print the following if user can't ride the roller coaster:\n",
        "You can't ride the roller coaster.\n",
        "\n",
        "\n",
        "**Example Input**\n",
        "\n",
        "Input 1:-\n",
        "9\n",
        "Input 2:-\n",
        "13\n",
        "\n",
        "\n",
        "**Example Output**\n",
        "\n",
        "Output 1:-\n",
        "You can't ride the roller coaster.\n",
        "Output 2:-\n",
        "You can ride the roller coaster!"
      ],
      "metadata": {
        "id": "ChJ8kDpoTQY2"
      }
    },
    {
      "cell_type": "code",
      "source": [
        "age = int(input(\"Enter age: \"))\n",
        "if age >= 13:\n",
        "  print(\"You can ride the roller coaster!\")\n",
        "else:\n",
        "  print(\"You can't ride the roller coaster.\")"
      ],
      "metadata": {
        "colab": {
          "base_uri": "https://localhost:8080/"
        },
        "id": "Am52aH_mTaUd",
        "outputId": "0cadab19-14ef-4e82-a315-701b4df204da"
      },
      "execution_count": 4,
      "outputs": [
        {
          "output_type": "stream",
          "name": "stdout",
          "text": [
            "Enter age: 45\n",
            "You can ride the roller coaster!\n"
          ]
        }
      ]
    },
    {
      "cell_type": "markdown",
      "source": [
        "The following flowchart is given. What would be the output if Temp=19?\n",
        "\n",
        "![FLOW CHART](https://drive.google.com/uc?id=1gA5VAPRuK1ZJWjPU_DI8O6QAVCQs6Tzc)"
      ],
      "metadata": {
        "id": "BBRcIiUPTtmR"
      }
    },
    {
      "cell_type": "code",
      "source": [
        "temp = float(input(\"Enter temperature: \"))\n",
        "if temp < 32:\n",
        "  print(\"Below Freezing\")\n",
        "else:\n",
        "  print(\"Above Freezing\")"
      ],
      "metadata": {
        "colab": {
          "base_uri": "https://localhost:8080/"
        },
        "id": "HboDyJLrTdhL",
        "outputId": "ccec288d-5f9b-4d7a-b494-aac53ef81f23"
      },
      "execution_count": 5,
      "outputs": [
        {
          "output_type": "stream",
          "name": "stdout",
          "text": [
            "Enter temperature: 25\n",
            "Below Freezing\n"
          ]
        }
      ]
    },
    {
      "cell_type": "code",
      "source": [
        "# What will be the output of the following code:\n",
        "\n",
        "x = 2\n",
        "if x==2:\n",
        "    x = 3\n",
        "x = 4\n",
        "else:\n",
        "    x = 5\n",
        "print(x)"
      ],
      "metadata": {
        "colab": {
          "base_uri": "https://localhost:8080/",
          "height": 106
        },
        "id": "5NuKCr86W91Q",
        "outputId": "16b9bf6b-e2f6-4488-b325-f5778c637b8b"
      },
      "execution_count": 6,
      "outputs": [
        {
          "output_type": "error",
          "ename": "SyntaxError",
          "evalue": "invalid syntax (<ipython-input-6-e1b5603659ab>, line 7)",
          "traceback": [
            "\u001b[0;36m  File \u001b[0;32m\"<ipython-input-6-e1b5603659ab>\"\u001b[0;36m, line \u001b[0;32m7\u001b[0m\n\u001b[0;31m    else:\u001b[0m\n\u001b[0m    ^\u001b[0m\n\u001b[0;31mSyntaxError\u001b[0m\u001b[0;31m:\u001b[0m invalid syntax\n"
          ]
        }
      ]
    },
    {
      "cell_type": "code",
      "source": [
        "#You have been given the following piece of code. Assume that x has already been declared.\n",
        "x=7\n",
        "if x > 2:\n",
        "    x = x*2\n",
        "if x > 4:\n",
        "    x = 0\n",
        "print(x)\n",
        "#Answer: if x>2, the output will bw 0"
      ],
      "metadata": {
        "colab": {
          "base_uri": "https://localhost:8080/"
        },
        "id": "WkK3uVR4Xf_n",
        "outputId": "e7a260ec-cbae-4995-feda-f433d06acd0a"
      },
      "execution_count": 8,
      "outputs": [
        {
          "output_type": "stream",
          "name": "stdout",
          "text": [
            "0\n"
          ]
        }
      ]
    },
    {
      "cell_type": "markdown",
      "source": [
        "**Problem Description:** Angles Of Valid Triangle\n",
        "\n",
        "You are given 3 integer angles(in degrees) A, B and C of a triangle. You have to tell whether the triangle is valid or not.\n",
        "\n",
        "A triangle is valid if sum of its angles equals to 180.\n",
        "\n",
        "NOTE: You have to take the input of 3 sides of triangle from the user.\n",
        "\n",
        "\n",
        "**Problem Constraints**\n",
        "\n",
        "1 <= A, B, C <= 180\n",
        "\n",
        "\n",
        "\n",
        "**Input Format**\n",
        "\n",
        "First line of the input contains an integer A.\n",
        "\n",
        "Second line of the input contains an integer B.\n",
        "\n",
        "Third line of the input contains an integer C.\n",
        "\n",
        "\n",
        "\n",
        "**Output Format**\n",
        "\n",
        "Print 1 if the triangle having given sides is valid, else print 0."
      ],
      "metadata": {
        "id": "OcHGXf2ZX9NB"
      }
    },
    {
      "cell_type": "code",
      "source": [
        "a = int(input(\"Enter angle A: \"))\n",
        "b = int(input(\"Enter angle B: \"))\n",
        "c = int(input(\"Enter angle C: \"))\n",
        "if a+b+c == 180:\n",
        "  print(1)\n",
        "else:\n",
        "  print(0)"
      ],
      "metadata": {
        "colab": {
          "base_uri": "https://localhost:8080/"
        },
        "id": "OgdVBwqeYFCk",
        "outputId": "c9180a57-0efe-4c71-ea4f-5c3bb9330c3b"
      },
      "execution_count": 9,
      "outputs": [
        {
          "output_type": "stream",
          "name": "stdout",
          "text": [
            "Enter angle A: 45\n",
            "Enter angle B: 90\n",
            "Enter angle C: 45\n",
            "1\n"
          ]
        }
      ]
    },
    {
      "cell_type": "markdown",
      "source": [
        "**Problem Description:** Profit Or Loss\n",
        "\n",
        "You are given the Cost Price C and Selling Price S of a Product. You have to tell whether there is a Profit or Loss. Also, calculate total profit or loss.\n",
        "\n",
        "NOTE: It is guaranteed that Cost Price and Selling Price are not equal.\n",
        "\n",
        "NOTE: You have to take input of the Cost Price(C) and Selling Price(S) from the user.\n",
        "\n",
        "\n",
        "\n",
        "**Problem Constraints**\n",
        "\n",
        "1 <= C, S <= 109\n",
        "\n",
        "C ≠ S\n",
        "\n",
        "\n",
        "\n",
        "**Input Format**\n",
        "\n",
        "First line of the input contains a single integer C.\n",
        "\n",
        "Second line of the input contains a single integer S.\n",
        "\n",
        "\n",
        "\n",
        "**Output Format**\n",
        "\n",
        "Print two integers in separate lines.\n",
        "\n",
        "First integer denotes whether there is a profit or loss. If there is a profit, print 1, else print -1.\n",
        "\n",
        "Second integer is a non-negative integer denoting the absolute value of total profit or loss.\n",
        "\n",
        "\n",
        "\n",
        "**Example Input**\n",
        "\n",
        "Input 1:\n",
        "\n",
        " 2\n",
        " 4\n",
        "Input 2:\n",
        "\n",
        " 4\n",
        " 1\n",
        "\n",
        "\n",
        "**Example Output**\n",
        "\n",
        "Output 1:\n",
        "\n",
        " 1\n",
        " 2\n",
        "Output 2:\n",
        "\n",
        " -1\n",
        " 3\n"
      ],
      "metadata": {
        "id": "DToc4MvkYaC3"
      }
    },
    {
      "cell_type": "code",
      "source": [
        "cp = int(input(\"Enter cost price: \"))\n",
        "sp = int(input(\"Enter selling price: \"))\n",
        "if cp < sp:\n",
        "  print(1, '\\n', sp-cp)\n",
        "elif cp > sp:\n",
        "  print(-1, '\\n', cp-sp)"
      ],
      "metadata": {
        "colab": {
          "base_uri": "https://localhost:8080/"
        },
        "id": "yskay_RwYlMg",
        "outputId": "f8cdd0f0-8dfa-40a3-b074-482e61b0f774"
      },
      "execution_count": 14,
      "outputs": [
        {
          "output_type": "stream",
          "name": "stdout",
          "text": [
            "Enter cost price: 45\n",
            "Enter selling price: 2\n",
            "-1 \n",
            " 43\n"
          ]
        }
      ]
    },
    {
      "cell_type": "markdown",
      "source": [
        "**Problem Description:** Min of two\n",
        "\n",
        "Write a program to input two numbers(A & B) from user and print the minimum element among A & B in each line.\n",
        "\n",
        "\n",
        "**Problem Constraints**\n",
        "\n",
        "1 <= A <= 1000000\n",
        "\n",
        "1 <= B <= 1000000\n",
        "\n",
        "\n",
        "\n",
        "**Input Format**\n",
        "First line is a single integer A.\n",
        "Second line is a single integer B.\n",
        "\n",
        "\n",
        "\n",
        "**Output Format**\n",
        "One line containing an integer as per the question.\n",
        "\n",
        "\n",
        "\n",
        "**Example Input**\n",
        "\n",
        "Input 1:\n",
        "\n",
        "5\n",
        "6\n",
        "Input 2:\n",
        "\n",
        "1000\n",
        "10000\n",
        "\n",
        "\n",
        "**Example Output**\n",
        "\n",
        "Output 1:\n",
        "\n",
        "5\n",
        "Output 2:\n",
        "\n",
        "1000"
      ],
      "metadata": {
        "id": "3JGHGPyLZe1i"
      }
    },
    {
      "cell_type": "code",
      "source": [
        "a = int(input(\"Enter first number: \"))\n",
        "b = int(input(\"Enter second number: \"))\n",
        "print(min(a,b))"
      ],
      "metadata": {
        "colab": {
          "base_uri": "https://localhost:8080/"
        },
        "id": "UpoUb6dfZKYZ",
        "outputId": "9a9dc8fb-adf4-4bfc-ce1e-76f84cf72340"
      },
      "execution_count": 16,
      "outputs": [
        {
          "output_type": "stream",
          "name": "stdout",
          "text": [
            "Enter first number: 45\n",
            "Enter second number: 32\n",
            "32\n"
          ]
        }
      ]
    },
    {
      "cell_type": "code",
      "source": [
        "# What will be the result of this:\n",
        "a = 1\n",
        "b = 2\n",
        "c = 3\n",
        "if a > b:\n",
        "    if a > c:\n",
        "        print(a)\n",
        "    else:\n",
        "        print(c)\n",
        "else:\n",
        "    if b > c:\n",
        "        print(b)\n",
        "    else:\n",
        "        print(c)"
      ],
      "metadata": {
        "colab": {
          "base_uri": "https://localhost:8080/"
        },
        "id": "RGZ8k05haRad",
        "outputId": "5366d9fd-49b6-435d-e972-e84c36036e0b"
      },
      "execution_count": 17,
      "outputs": [
        {
          "output_type": "stream",
          "name": "stdout",
          "text": [
            "3\n"
          ]
        }
      ]
    }
  ]
}