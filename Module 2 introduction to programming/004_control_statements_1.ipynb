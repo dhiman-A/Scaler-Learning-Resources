{
  "nbformat": 4,
  "nbformat_minor": 0,
  "metadata": {
    "colab": {
      "provenance": [],
      "authorship_tag": "ABX9TyM4PMFoP+mDzRb8EIHM31YD",
      "include_colab_link": true
    },
    "kernelspec": {
      "name": "python3",
      "display_name": "Python 3"
    },
    "language_info": {
      "name": "python"
    }
  },
  "cells": [
    {
      "cell_type": "markdown",
      "metadata": {
        "id": "view-in-github",
        "colab_type": "text"
      },
      "source": [
        "<a href=\"https://colab.research.google.com/github/dhiman-A/Scaler-Learning-Resources/blob/main/Module%202%20introduction%20to%20programming/004_control_statements_1.ipynb\" target=\"_parent\"><img src=\"https://colab.research.google.com/assets/colab-badge.svg\" alt=\"Open In Colab\"/></a>"
      ]
    },
    {
      "cell_type": "markdown",
      "source": [
        "The following flowchart is given. What would be the output if Temp=19?\n",
        "\n",
        "![FLOW CHART](https://drive.google.com/uc?id=1gA5VAPRuK1ZJWjPU_DI8O6QAVCQs6Tzc)"
      ],
      "metadata": {
        "id": "BBRcIiUPTtmR"
      }
    },
    {
      "cell_type": "code",
      "source": [
        "temp = float(input(\"Enter temperature: \"))\n",
        "if temp < 32:\n",
        "  print(\"Below Freezing\")\n",
        "else:\n",
        "  print(\"Above Freezing\")"
      ],
      "metadata": {
        "colab": {
          "base_uri": "https://localhost:8080/"
        },
        "id": "HboDyJLrTdhL",
        "outputId": "ccec288d-5f9b-4d7a-b494-aac53ef81f23"
      },
      "execution_count": 5,
      "outputs": [
        {
          "output_type": "stream",
          "name": "stdout",
          "text": [
            "Enter temperature: 25\n",
            "Below Freezing\n"
          ]
        }
      ]
    },
    {
      "cell_type": "markdown",
      "source": [
        "**Problem Description:**Class Performance 2\n",
        "\n",
        "You have been given a dataset for marks of 2 subjects, scored by students of classes ClassA and ClassB. You now want to compare the performances of class A and class B by finding out the average performance of the classes. Write a program to find if class A performed better. Print True is Class A is strictly better else return False.\n",
        "\n",
        "\n",
        "**Input Format**\n",
        "\n",
        "There are 4 lines in the input.\n",
        "The first and second lines are marks of subjects for Class A.\n",
        "The third and fourth lines are marks of subjects for Class B.\n",
        "\n",
        "\n",
        "**Output Format**\n",
        "\n",
        "Print True if class A is strictly better else False.\n",
        "\n",
        "\n",
        "**Example Input**\n",
        "\n",
        "Input 1:-\n",
        "80\n",
        "27\n",
        "54\n",
        "61\n",
        "Input 2:-\n",
        "54\n",
        "61\n",
        "80\n",
        "27\n",
        "\n",
        "\n",
        "**Example Output**\n",
        "\n",
        "Output 1:-\n",
        "False\n",
        "Output 2:-\n",
        "True"
      ],
      "metadata": {
        "id": "HoPDAx8IQpRZ"
      }
    },
    {
      "cell_type": "code",
      "execution_count": 2,
      "metadata": {
        "colab": {
          "base_uri": "https://localhost:8080/"
        },
        "id": "Eeqz3tbTQSNA",
        "outputId": "dce2bce5-2119-4ab3-cd07-81c7446ad454"
      },
      "outputs": [
        {
          "output_type": "stream",
          "name": "stdout",
          "text": [
            "Enter marks for subject 1 fo class A: 21\n",
            "Enter marks for subject 2 fo class A: 32\n",
            "Enter marks for subject 1 fo class B: 45\n",
            "Enter marks for subject 2 fo class B: 37\n",
            "False\n"
          ]
        }
      ],
      "source": [
        "def class_performance(a, b):\n",
        "  try:\n",
        "    if a > b:\n",
        "      return True\n",
        "    else:\n",
        "      return False\n",
        "  except:\n",
        "    print(\"Enter valid input\")\n",
        "a = int(input(\"Enter marks for subject 1 fo class A: \"))\n",
        "b = int(input(\"Enter marks for subject 2 fo class A: \"))\n",
        "av1 = (a+b)/2\n",
        "c = int(input(\"Enter marks for subject 1 fo class B: \"))\n",
        "d = int(input(\"Enter marks for subject 2 fo class B: \"))\n",
        "av2 = (c+d)/2\n",
        "\n",
        "print(class_performance(av1, av2))"
      ]
    },
    {
      "cell_type": "markdown",
      "source": [
        "**Problem Description:** Max of two\n",
        "\n",
        "Write a program to input two numbers(A & B) from user and print the maximum element among A & B.\n",
        "\n",
        "\n",
        "**Problem Constraints**\n",
        "\n",
        "1 <= A <= 1000000\n",
        "\n",
        "1 <= B <= 1000000\n",
        "\n",
        "\n",
        "\n",
        "**Input Format**\n",
        "\n",
        "First line is a single integer A.\n",
        "Second line is a single integer B.\n",
        "\n",
        "\n",
        "\n",
        "**Output Format**\n",
        "\n",
        "One line containing the greater integer A or B."
      ],
      "metadata": {
        "id": "dNWsLpqQSe3c"
      }
    },
    {
      "cell_type": "code",
      "source": [
        "try:\n",
        "  a = int(input(\"Enter first number: \"))\n",
        "  b = int(input(\"Enter second number: \"))\n",
        "  print(max(a,b))\n",
        "except:\n",
        "  print(\"Enter valid input\")"
      ],
      "metadata": {
        "colab": {
          "base_uri": "https://localhost:8080/"
        },
        "id": "3bEHPW9WSrdZ",
        "outputId": "f1921fa1-389c-4b8d-88d4-d96b9c02a5e4"
      },
      "execution_count": 3,
      "outputs": [
        {
          "output_type": "stream",
          "name": "stdout",
          "text": [
            "Enter first number: 32\n",
            "Enter second number: 21\n",
            "32\n"
          ]
        }
      ]
    },
    {
      "cell_type": "markdown",
      "source": [
        "**Problem Description:**  Roller Coaster Ride\n",
        "\n",
        "Write a program that takes the age of the user as input and tells them if they're old enough to ride a roller coaster. The minimum age to ride the roller coaster in this question is 13.\n",
        "\n",
        "\n",
        "**Input Format**\n",
        "\n",
        "There is only 1 single line in the input, which is the age of the user.\n",
        "\n",
        "\n",
        "**Output Format**\n",
        "\n",
        "Print the following if user can ride the roller coaster:\n",
        "You can ride the roller coaster!\n",
        "Print the following if user can't ride the roller coaster:\n",
        "You can't ride the roller coaster.\n",
        "\n",
        "\n",
        "**Example Input**\n",
        "\n",
        "Input 1:-\n",
        "9\n",
        "Input 2:-\n",
        "13\n",
        "\n",
        "\n",
        "**Example Output**\n",
        "\n",
        "Output 1:-\n",
        "You can't ride the roller coaster.\n",
        "Output 2:-\n",
        "You can ride the roller coaster!"
      ],
      "metadata": {
        "id": "ChJ8kDpoTQY2"
      }
    },
    {
      "cell_type": "code",
      "source": [
        "age = int(input(\"Enter age: \"))\n",
        "if age >= 13:\n",
        "  print(\"You can ride the roller coaster!\")\n",
        "else:\n",
        "  print(\"You can't ride the roller coaster.\")"
      ],
      "metadata": {
        "colab": {
          "base_uri": "https://localhost:8080/"
        },
        "id": "Am52aH_mTaUd",
        "outputId": "0cadab19-14ef-4e82-a315-701b4df204da"
      },
      "execution_count": 4,
      "outputs": [
        {
          "output_type": "stream",
          "name": "stdout",
          "text": [
            "Enter age: 45\n",
            "You can ride the roller coaster!\n"
          ]
        }
      ]
    },
    {
      "cell_type": "code",
      "source": [
        "# What will be the output of the following code:\n",
        "\n",
        "x = 2\n",
        "if x==2:\n",
        "    x = 3\n",
        "x = 4\n",
        "else:\n",
        "    x = 5\n",
        "print(x)"
      ],
      "metadata": {
        "colab": {
          "base_uri": "https://localhost:8080/",
          "height": 106
        },
        "id": "5NuKCr86W91Q",
        "outputId": "16b9bf6b-e2f6-4488-b325-f5778c637b8b"
      },
      "execution_count": 6,
      "outputs": [
        {
          "output_type": "error",
          "ename": "SyntaxError",
          "evalue": "invalid syntax (<ipython-input-6-e1b5603659ab>, line 7)",
          "traceback": [
            "\u001b[0;36m  File \u001b[0;32m\"<ipython-input-6-e1b5603659ab>\"\u001b[0;36m, line \u001b[0;32m7\u001b[0m\n\u001b[0;31m    else:\u001b[0m\n\u001b[0m    ^\u001b[0m\n\u001b[0;31mSyntaxError\u001b[0m\u001b[0;31m:\u001b[0m invalid syntax\n"
          ]
        }
      ]
    },
    {
      "cell_type": "code",
      "source": [
        "#You have been given the following piece of code. Assume that x has already been declared.\n",
        "x=7\n",
        "if x > 2:\n",
        "    x = x*2\n",
        "if x > 4:\n",
        "    x = 0\n",
        "print(x)\n",
        "#Answer: if x>2, the output will bw 0"
      ],
      "metadata": {
        "colab": {
          "base_uri": "https://localhost:8080/"
        },
        "id": "WkK3uVR4Xf_n",
        "outputId": "e7a260ec-cbae-4995-feda-f433d06acd0a"
      },
      "execution_count": 8,
      "outputs": [
        {
          "output_type": "stream",
          "name": "stdout",
          "text": [
            "0\n"
          ]
        }
      ]
    },
    {
      "cell_type": "markdown",
      "source": [
        "**Problem Description:** Angles Of Valid Triangle\n",
        "\n",
        "You are given 3 integer angles(in degrees) A, B and C of a triangle. You have to tell whether the triangle is valid or not.\n",
        "\n",
        "A triangle is valid if sum of its angles equals to 180.\n",
        "\n",
        "NOTE: You have to take the input of 3 sides of triangle from the user.\n",
        "\n",
        "\n",
        "**Problem Constraints**\n",
        "\n",
        "1 <= A, B, C <= 180\n",
        "\n",
        "\n",
        "\n",
        "**Input Format**\n",
        "\n",
        "First line of the input contains an integer A.\n",
        "\n",
        "Second line of the input contains an integer B.\n",
        "\n",
        "Third line of the input contains an integer C.\n",
        "\n",
        "\n",
        "\n",
        "**Output Format**\n",
        "\n",
        "Print 1 if the triangle having given sides is valid, else print 0."
      ],
      "metadata": {
        "id": "OcHGXf2ZX9NB"
      }
    },
    {
      "cell_type": "code",
      "source": [
        "a = int(input(\"Enter angle A: \"))\n",
        "b = int(input(\"Enter angle B: \"))\n",
        "c = int(input(\"Enter angle C: \"))\n",
        "if a+b+c == 180:\n",
        "  print(1)\n",
        "else:\n",
        "  print(0)"
      ],
      "metadata": {
        "colab": {
          "base_uri": "https://localhost:8080/"
        },
        "id": "OgdVBwqeYFCk",
        "outputId": "c9180a57-0efe-4c71-ea4f-5c3bb9330c3b"
      },
      "execution_count": 9,
      "outputs": [
        {
          "output_type": "stream",
          "name": "stdout",
          "text": [
            "Enter angle A: 45\n",
            "Enter angle B: 90\n",
            "Enter angle C: 45\n",
            "1\n"
          ]
        }
      ]
    },
    {
      "cell_type": "markdown",
      "source": [
        "**Problem Description:** Profit Or Loss\n",
        "\n",
        "You are given the Cost Price C and Selling Price S of a Product. You have to tell whether there is a Profit or Loss. Also, calculate total profit or loss.\n",
        "\n",
        "NOTE: It is guaranteed that Cost Price and Selling Price are not equal.\n",
        "\n",
        "NOTE: You have to take input of the Cost Price(C) and Selling Price(S) from the user.\n",
        "\n",
        "\n",
        "\n",
        "**Problem Constraints**\n",
        "\n",
        "1 <= C, S <= 109\n",
        "\n",
        "C ≠ S\n",
        "\n",
        "\n",
        "\n",
        "**Input Format**\n",
        "\n",
        "First line of the input contains a single integer C.\n",
        "\n",
        "Second line of the input contains a single integer S.\n",
        "\n",
        "\n",
        "\n",
        "**Output Format**\n",
        "\n",
        "Print two integers in separate lines.\n",
        "\n",
        "First integer denotes whether there is a profit or loss. If there is a profit, print 1, else print -1.\n",
        "\n",
        "Second integer is a non-negative integer denoting the absolute value of total profit or loss.\n",
        "\n",
        "\n",
        "\n",
        "**Example Input**\n",
        "\n",
        "Input 1:\n",
        "\n",
        " 2\n",
        " 4\n",
        "Input 2:\n",
        "\n",
        " 4\n",
        " 1\n",
        "\n",
        "\n",
        "**Example Output**\n",
        "\n",
        "Output 1:\n",
        "\n",
        " 1\n",
        " 2\n",
        "Output 2:\n",
        "\n",
        " -1\n",
        " 3\n"
      ],
      "metadata": {
        "id": "DToc4MvkYaC3"
      }
    },
    {
      "cell_type": "code",
      "source": [
        "cp = int(input(\"Enter cost price: \"))\n",
        "sp = int(input(\"Enter selling price: \"))\n",
        "if cp < sp:\n",
        "  print(1, '\\n', sp-cp)\n",
        "elif cp > sp:\n",
        "  print(-1, '\\n', cp-sp)"
      ],
      "metadata": {
        "colab": {
          "base_uri": "https://localhost:8080/"
        },
        "id": "yskay_RwYlMg",
        "outputId": "f8cdd0f0-8dfa-40a3-b074-482e61b0f774"
      },
      "execution_count": 14,
      "outputs": [
        {
          "output_type": "stream",
          "name": "stdout",
          "text": [
            "Enter cost price: 45\n",
            "Enter selling price: 2\n",
            "-1 \n",
            " 43\n"
          ]
        }
      ]
    },
    {
      "cell_type": "markdown",
      "source": [
        "**Problem Description:** Min of two\n",
        "\n",
        "Write a program to input two numbers(A & B) from user and print the minimum element among A & B in each line.\n",
        "\n",
        "\n",
        "**Problem Constraints**\n",
        "\n",
        "1 <= A <= 1000000\n",
        "\n",
        "1 <= B <= 1000000\n",
        "\n",
        "\n",
        "\n",
        "**Input Format**\n",
        "First line is a single integer A.\n",
        "Second line is a single integer B.\n",
        "\n",
        "\n",
        "\n",
        "**Output Format**\n",
        "One line containing an integer as per the question.\n",
        "\n",
        "\n",
        "\n",
        "**Example Input**\n",
        "\n",
        "Input 1:\n",
        "\n",
        "5\n",
        "6\n",
        "Input 2:\n",
        "\n",
        "1000\n",
        "10000\n",
        "\n",
        "\n",
        "**Example Output**\n",
        "\n",
        "Output 1:\n",
        "\n",
        "5\n",
        "Output 2:\n",
        "\n",
        "1000"
      ],
      "metadata": {
        "id": "3JGHGPyLZe1i"
      }
    },
    {
      "cell_type": "code",
      "source": [
        "a = int(input(\"Enter first number: \"))\n",
        "b = int(input(\"Enter second number: \"))\n",
        "print(min(a,b))"
      ],
      "metadata": {
        "colab": {
          "base_uri": "https://localhost:8080/"
        },
        "id": "UpoUb6dfZKYZ",
        "outputId": "9a9dc8fb-adf4-4bfc-ce1e-76f84cf72340"
      },
      "execution_count": 16,
      "outputs": [
        {
          "output_type": "stream",
          "name": "stdout",
          "text": [
            "Enter first number: 45\n",
            "Enter second number: 32\n",
            "32\n"
          ]
        }
      ]
    },
    {
      "cell_type": "code",
      "source": [
        "# What will be the result of this:\n",
        "a = 1\n",
        "b = 2\n",
        "c = 3\n",
        "if a > b:\n",
        "    if a > c:\n",
        "        print(a)\n",
        "    else:\n",
        "        print(c)\n",
        "else:\n",
        "    if b > c:\n",
        "        print(b)\n",
        "    else:\n",
        "        print(c)"
      ],
      "metadata": {
        "colab": {
          "base_uri": "https://localhost:8080/"
        },
        "id": "RGZ8k05haRad",
        "outputId": "5366d9fd-49b6-435d-e972-e84c36036e0b"
      },
      "execution_count": 17,
      "outputs": [
        {
          "output_type": "stream",
          "name": "stdout",
          "text": [
            "3\n"
          ]
        }
      ]
    }
  ]
}